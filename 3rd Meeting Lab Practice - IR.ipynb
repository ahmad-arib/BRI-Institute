{
 "cells": [
  {
   "cell_type": "markdown",
   "metadata": {},
   "source": [
    "# 3rd Meeting - Information Retrieval\n",
    "#### BRI Institute\n",
    "## Pre-requisites\n",
    "\n",
    "Please have the following pre-requisites ready on your machine. If you don't have them, please install them with the hurry of this hacker cat!\n",
    "\n",
    "![Typing cat gif](https://media.giphy.com/media/o0vwzuFwCGAFO/giphy.gif)\n",
    "\n",
    "### Installing Jupyter on your machine\n",
    "\n",
    "- If you already have Anaconda, you should have Jupyter installed as well. ```jupyter notebook``` opens up a Jupyter notebook in your browser at default port 8888. \n",
    "\n",
    "- Use pip install. ```python3 -m pip install jupyter``` for Python 3 install, ```python -m pip install jupyter``` for Python 2 install. For more details, refer to https://jupyter.org/install\n",
    "\n",
    "- Also use pip to install the following packages: ```nltk, lxml, requests, matplotlib, re, sklearn, wikipedia, random, gensim, wordcloud```"
   ]
  },
  {
   "cell_type": "markdown",
   "metadata": {},
   "source": [
    "## NLTK\n",
    "Natural Language Toolkit is the most popular collection of libraries and programs to do NLP. You can find more about it here: http://www.nltk.org/book/ch00.html. We will mainly be using NLTK to perform different tasks, along with a few other packages."
   ]
  },
  {
   "cell_type": "code",
   "execution_count": 19,
   "metadata": {},
   "outputs": [
    {
     "name": "stderr",
     "output_type": "stream",
     "text": [
      "[nltk_data] Downloading package punkt to C:\\Users\\KJRI\n",
      "[nltk_data]     Shanghai\\AppData\\Roaming\\nltk_data...\n",
      "[nltk_data]   Package punkt is already up-to-date!\n",
      "[nltk_data] Downloading package gutenberg to C:\\Users\\KJRI\n",
      "[nltk_data]     Shanghai\\AppData\\Roaming\\nltk_data...\n",
      "[nltk_data]   Package gutenberg is already up-to-date!\n",
      "[nltk_data] Downloading package stopwords to C:\\Users\\KJRI\n",
      "[nltk_data]     Shanghai\\AppData\\Roaming\\nltk_data...\n",
      "[nltk_data]   Unzipping corpora\\stopwords.zip.\n"
     ]
    },
    {
     "data": {
      "text/plain": [
       "True"
      ]
     },
     "execution_count": 19,
     "metadata": {},
     "output_type": "execute_result"
    }
   ],
   "source": [
    "import nltk\n",
    "nltk.download('punkt')\n",
    "nltk.download('gutenberg')\n",
    "nltk.download('stopwords')"
   ]
  },
  {
   "cell_type": "markdown",
   "metadata": {},
   "source": [
    "NLTK comes pre-loaded with texts from the Project Gutenberg archive that you can use. It also has a collection of informal text from discussion forums, conversations, chat sessions, movie scripts, etc. NLTK has corpora in other languages as well."
   ]
  },
  {
   "cell_type": "code",
   "execution_count": 2,
   "metadata": {},
   "outputs": [
    {
     "name": "stdout",
     "output_type": "stream",
     "text": [
      "austen-emma.txt [Emma by Jane Austen 1816]\n",
      "\n",
      "VOLUME I\n",
      "\n",
      "CHAPTER I\n",
      "\n",
      "\n",
      "Emma Woodhouse, handsome, clever, and rich, with a ...\n",
      "austen-persuasion.txt [Persuasion by Jane Austen 1818]\n",
      "\n",
      "\n",
      "Chapter 1\n",
      "\n",
      "\n",
      "Sir Walter Elliot, of Kellynch Hall, in Somersetshire ...\n",
      "austen-sense.txt [Sense and Sensibility by Jane Austen 1811]\n",
      "\n",
      "CHAPTER 1\n",
      "\n",
      "\n",
      "The family of Dashwood had long been settle ...\n",
      "bible-kjv.txt [The King James Bible]\n",
      "\n",
      "The Old Testament of the King James Bible\n",
      "\n",
      "The First Book of Moses:  Called  ...\n",
      "blake-poems.txt [Poems by William Blake 1789]\n",
      "\n",
      " \n",
      "SONGS OF INNOCENCE AND OF EXPERIENCE\n",
      "and THE BOOK of THEL\n",
      "\n",
      "\n",
      " SONGS  ...\n",
      "bryant-stories.txt [Stories to Tell to Children by Sara Cone Bryant 1918] \r\n",
      "\r\n",
      "\r\n",
      "TWO LITTLE RIDDLES IN RHYME\r\n",
      "\r\n",
      "\r\n",
      "     T ...\n",
      "burgess-busterbrown.txt [The Adventures of Buster Bear by Thornton W. Burgess 1920]\r\n",
      "\r\n",
      "I\r\n",
      "\r\n",
      "BUSTER BEAR GOES FISHING\r\n",
      "\r\n",
      "\r\n",
      "Bu ...\n",
      "carroll-alice.txt [Alice's Adventures in Wonderland by Lewis Carroll 1865]\n",
      "\n",
      "CHAPTER I. Down the Rabbit-Hole\n",
      "\n",
      "Alice was ...\n",
      "chesterton-ball.txt [The Ball and The Cross by G.K. Chesterton 1909]\n",
      "\n",
      "\n",
      "I. A DISCUSSION SOMEWHAT IN THE AIR\n",
      "\n",
      "The flying s ...\n",
      "chesterton-brown.txt [The Wisdom of Father Brown by G. K. Chesterton 1914]\n",
      "\n",
      "\n",
      "I. The Absence of Mr Glass\n",
      "\n",
      "\n",
      "THE consulting- ...\n",
      "chesterton-thursday.txt [The Man Who Was Thursday by G. K. Chesterton 1908]\n",
      "\n",
      "To Edmund Clerihew Bentley\n",
      "\n",
      "A cloud was on the  ...\n",
      "edgeworth-parents.txt [The Parent's Assistant, by Maria Edgeworth]\r\n",
      "\r\n",
      "\r\n",
      "THE ORPHANS.\r\n",
      "\r\n",
      "Near the ruins of the castle of Ro ...\n",
      "melville-moby_dick.txt [Moby Dick by Herman Melville 1851]\r\n",
      "\r\n",
      "\r\n",
      "ETYMOLOGY.\r\n",
      "\r\n",
      "(Supplied by a Late Consumptive Usher to a Gr ...\n",
      "milton-paradise.txt [Paradise Lost by John Milton 1667] \n",
      " \n",
      " \n",
      "Book I \n",
      " \n",
      " \n",
      "Of Man's first disobedience, and the fruit \n",
      "Of  ...\n",
      "shakespeare-caesar.txt [The Tragedie of Julius Caesar by William Shakespeare 1599]\n",
      "\n",
      "\n",
      "Actus Primus. Scoena Prima.\n",
      "\n",
      "Enter Fla ...\n",
      "shakespeare-hamlet.txt [The Tragedie of Hamlet by William Shakespeare 1599]\n",
      "\n",
      "\n",
      "Actus Primus. Scoena Prima.\n",
      "\n",
      "Enter Barnardo a ...\n",
      "shakespeare-macbeth.txt [The Tragedie of Macbeth by William Shakespeare 1603]\n",
      "\n",
      "\n",
      "Actus Primus. Scoena Prima.\n",
      "\n",
      "Thunder and Lig ...\n",
      "whitman-leaves.txt [Leaves of Grass by Walt Whitman 1855]\n",
      "\n",
      "\n",
      "Come, said my soul,\n",
      "Such verses for my Body let us write, ( ...\n"
     ]
    }
   ],
   "source": [
    "from nltk.corpus import gutenberg\n",
    "\n",
    "# Printing the first 100 characters of each of the files\n",
    "for fileid in gutenberg.fileids():\n",
    "    print(fileid, gutenberg.raw(fileid)[:100], '...')\n"
   ]
  },
  {
   "cell_type": "markdown",
   "metadata": {},
   "source": [
    "## Getting the data\n",
    "![Fetch data](https://media.giphy.com/media/4FQMuOKR6zQRO/giphy.gif)\n",
    "\n",
    "Data can come from a variety of sources in different formats. Natural language can be in the form of text or speech. For the purpose of this tutorial, we will be focusing on text-based processing as opposed to speech recognition and synthesis. <br>\n",
    "\n",
    "Textual data used for this class taken from: https://bri-institute.ac.id/en/home/"
   ]
  },
  {
   "cell_type": "code",
   "execution_count": 10,
   "metadata": {},
   "outputs": [
    {
     "data": {
      "text/plain": [
       "['Bank Rakyat Indonesia Institute of Technology and Business or BRI Institute is a private tertiary institution located on Jl. RM. Harsono No.2, Ragunan, Pasar Minggu, Kota Jakarta Selatan. BRI institute was established on November 14, 2018 based on the Decree of the Minister of Research, Technology and Higher Education Republic of Indonesia No. 1014 / KPT / I / 2018. BRI Institute is expected to produce graduates who are superior and ready to use in the financial industry business that is cultivated and controlled by the BRI Group, among others related to microfinance, insurance, sharia, digital banking and entrepreneurship. Later graduates are expected to meet the BRI Group’s internal needs and be absorbed by the financial industry in Indonesia.']"
      ]
     },
     "execution_count": 10,
     "metadata": {},
     "output_type": "execute_result"
    }
   ],
   "source": [
    "sample_data = [\"Bank Rakyat Indonesia Institute of Technology and Business or BRI Institute is a private tertiary institution located on Jl. RM. Harsono No.2, Ragunan, Pasar Minggu, Kota Jakarta Selatan. BRI institute was established on November 14, 2018 based on the Decree of the Minister of Research, Technology and Higher Education Republic of Indonesia No. 1014 / KPT / I / 2018. BRI Institute is expected to produce graduates who are superior and ready to use in the financial industry business that is cultivated and controlled by the BRI Group, among others related to microfinance, insurance, sharia, digital banking and entrepreneurship. Later graduates are expected to meet the BRI Group’s internal needs and be absorbed by the financial industry in Indonesia.\"]\n",
    "sample_data"
   ]
  },
  {
   "cell_type": "markdown",
   "metadata": {},
   "source": [
    "## Sentence segmentation\n",
    "A paragraph is nothing but a collection of sentences. Also called sentence tokenization or sentence boundary disambiguation, this process breaks up sentences by deciding where a sentence starts and ends. Challenges include recognizing ambiguous puncutation marks. For example, `.` can be used for a decimal point, an ellipsis or a period. Let's use ```sent_tokenize``` from ```nltk.tokenize``` to get sentences."
   ]
  },
  {
   "cell_type": "code",
   "execution_count": 11,
   "metadata": {},
   "outputs": [],
   "source": [
    "from nltk.tokenize import sent_tokenize\n",
    "\n",
    "def get_sent_tokens(data):\n",
    "    \"\"\"Sentence tokenization\"\"\"\n",
    "    sentences = []\n",
    "    for sent in data:\n",
    "        sentences.extend(sent_tokenize(sent))\n",
    "    print('Sentence tokens:', sentences)\n",
    "    return sentences"
   ]
  },
  {
   "cell_type": "code",
   "execution_count": 12,
   "metadata": {},
   "outputs": [
    {
     "name": "stdout",
     "output_type": "stream",
     "text": [
      "Sentence tokens: ['Bank Rakyat Indonesia Institute of Technology and Business or BRI Institute is a private tertiary institution located on Jl.', 'RM.', 'Harsono No.2, Ragunan, Pasar Minggu, Kota Jakarta Selatan.', 'BRI institute was established on November 14, 2018 based on the Decree of the Minister of Research, Technology and Higher Education Republic of Indonesia No.', '1014 / KPT / I / 2018.', 'BRI Institute is expected to produce graduates who are superior and ready to use in the financial industry business that is cultivated and controlled by the BRI Group, among others related to microfinance, insurance, sharia, digital banking and entrepreneurship.', 'Later graduates are expected to meet the BRI Group’s internal needs and be absorbed by the financial industry in Indonesia.']\n"
     ]
    }
   ],
   "source": [
    "sample_sentences = get_sent_tokens(sample_data)"
   ]
  },
  {
   "cell_type": "markdown",
   "metadata": {},
   "source": [
    "## Word tokenization\n",
    "A sentence is a collection of words. Word tokenization is similar to sentence tokenization, but works on words. Let's use ```word_tokenize``` from ```nltk.tokenize``` to get the words. "
   ]
  },
  {
   "cell_type": "code",
   "execution_count": 13,
   "metadata": {},
   "outputs": [],
   "source": [
    "from nltk.tokenize import word_tokenize\n",
    "\n",
    "def get_word_tokens(sentences):\n",
    "    '''Word tokenization'''\n",
    "    words = []\n",
    "    for sent in sentences:\n",
    "        words.extend(word_tokenize(sent))\n",
    "    print('Word tokens:', words)\n",
    "    return(words)"
   ]
  },
  {
   "cell_type": "code",
   "execution_count": 14,
   "metadata": {},
   "outputs": [
    {
     "name": "stdout",
     "output_type": "stream",
     "text": [
      "Word tokens: ['Bank', 'Rakyat', 'Indonesia', 'Institute', 'of', 'Technology', 'and', 'Business', 'or', 'BRI', 'Institute', 'is', 'a', 'private', 'tertiary', 'institution', 'located', 'on', 'Jl', '.', 'RM', '.', 'Harsono', 'No.2', ',', 'Ragunan', ',', 'Pasar', 'Minggu', ',', 'Kota', 'Jakarta', 'Selatan', '.', 'BRI', 'institute', 'was', 'established', 'on', 'November', '14', ',', '2018', 'based', 'on', 'the', 'Decree', 'of', 'the', 'Minister', 'of', 'Research', ',', 'Technology', 'and', 'Higher', 'Education', 'Republic', 'of', 'Indonesia', 'No', '.', '1014', '/', 'KPT', '/', 'I', '/', '2018', '.', 'BRI', 'Institute', 'is', 'expected', 'to', 'produce', 'graduates', 'who', 'are', 'superior', 'and', 'ready', 'to', 'use', 'in', 'the', 'financial', 'industry', 'business', 'that', 'is', 'cultivated', 'and', 'controlled', 'by', 'the', 'BRI', 'Group', ',', 'among', 'others', 'related', 'to', 'microfinance', ',', 'insurance', ',', 'sharia', ',', 'digital', 'banking', 'and', 'entrepreneurship', '.', 'Later', 'graduates', 'are', 'expected', 'to', 'meet', 'the', 'BRI', 'Group', '’', 's', 'internal', 'needs', 'and', 'be', 'absorbed', 'by', 'the', 'financial', 'industry', 'in', 'Indonesia', '.']\n"
     ]
    }
   ],
   "source": [
    "sample_words = get_word_tokens(sample_sentences)"
   ]
  },
  {
   "cell_type": "markdown",
   "metadata": {},
   "source": [
    "## Frequency distribution\n",
    "Calculates the frequency distribution for each word in the data. Use ```nltk.probability``` from ```FreqDist``` and ```matplotlib```."
   ]
  },
  {
   "cell_type": "code",
   "execution_count": 15,
   "metadata": {},
   "outputs": [],
   "source": [
    "import matplotlib\n",
    "from nltk.probability import FreqDist\n",
    "matplotlib.use('TkAgg') \n",
    "\n",
    "def plot_freq_dist(words, num_words = 20):\n",
    "    '''Frequency distribution'''\n",
    "    fdist = FreqDist(words)\n",
    "    fdist.plot(num_words, cumulative=False)"
   ]
  },
  {
   "cell_type": "code",
   "execution_count": 16,
   "metadata": {
    "scrolled": true
   },
   "outputs": [
    {
     "data": {
      "image/png": "[encoded data removed]",
      "text/plain": [
       "<Figure size 432x288 with 1 Axes>"
      ]
     },
     "metadata": {
      "needs_background": "light"
     },
     "output_type": "display_data"
    }
   ],
   "source": [
    "%matplotlib inline\n",
    "plot_freq_dist(sample_words, num_words=10)"
   ]
  },
  {
   "cell_type": "markdown",
   "metadata": {},
   "source": [
    "## Cleaning the data\n",
    "![Cleaning data](https://media.giphy.com/media/10zsjaH4g0GgmY/giphy.gif)\n",
    "\n",
    "Oops, we missed a crucial step! Real world data is often messy and needs to undergo cleaning. You can do a bunch of preprocessing to ensure the data is clean, like:\n",
    "- Removing special characters and numbers - These are usually not important when trying to derive the semantics\n",
    "- Removing stopwords - A special category of words that don't have any significance on their own and are often used as filler words or to ensure correct grammer. Eg. the, and, but, of, is, or, those, her, \n",
    "- Removing HTML tags - Raw data from webpages can often be laden with HTML tags. Use a library like `BeautifulSoup` to process and remove the tags.\n",
    "- Standardizing words - This aims to consolidate different versions of the same version Eg. SMS/Twitter language, slang, misspellings \n",
    "- Converting to lower case - To ensure uniformity across all words\n"
   ]
  },
  {
   "cell_type": "code",
   "execution_count": 20,
   "metadata": {},
   "outputs": [],
   "source": [
    "import re\n",
    "from nltk.corpus import stopwords\n",
    "\n",
    "stop_words = set(stopwords.words('english'))\n",
    "\n",
    "def get_clean_sentences(sentences, remove_digits=False):\n",
    "    '''Cleaning sentences by removing special characters and optionally digits'''\n",
    "    clean_sentences = []\n",
    "    for sent in sentences:\n",
    "        pattern = r'[^a-zA-Z0-9\\s]' if not remove_digits else r'[^a-zA-Z\\s]' \n",
    "        clean_text = re.sub(pattern, '', sent)\n",
    "        clean_text = clean_text.lower()\n",
    "        clean_sentences.append(clean_text)\n",
    "    print('Clean sentences:', clean_sentences)\n",
    "    return clean_sentences\n",
    "\n",
    "def filter_stopwords(words):\n",
    "    '''Removing stopwords from given words'''\n",
    "    filtered_words = [w for w in words if w not in stop_words]\n",
    "    print('Filtered words:', filtered_words)\n",
    "    return filtered_words"
   ]
  },
  {
   "cell_type": "code",
   "execution_count": 21,
   "metadata": {},
   "outputs": [
    {
     "name": "stdout",
     "output_type": "stream",
     "text": [
      "Clean sentences: ['bank rakyat indonesia institute of technology and business or bri institute is a private tertiary institution located on jl', 'rm', 'harsono no ragunan pasar minggu kota jakarta selatan', 'bri institute was established on november   based on the decree of the minister of research technology and higher education republic of indonesia no', '  kpt  i  ', 'bri institute is expected to produce graduates who are superior and ready to use in the financial industry business that is cultivated and controlled by the bri group among others related to microfinance insurance sharia digital banking and entrepreneurship', 'later graduates are expected to meet the bri groups internal needs and be absorbed by the financial industry in indonesia']\n",
      "Word tokens: ['bank', 'rakyat', 'indonesia', 'institute', 'of', 'technology', 'and', 'business', 'or', 'bri', 'institute', 'is', 'a', 'private', 'tertiary', 'institution', 'located', 'on', 'jl', 'rm', 'harsono', 'no', 'ragunan', 'pasar', 'minggu', 'kota', 'jakarta', 'selatan', 'bri', 'institute', 'was', 'established', 'on', 'november', 'based', 'on', 'the', 'decree', 'of', 'the', 'minister', 'of', 'research', 'technology', 'and', 'higher', 'education', 'republic', 'of', 'indonesia', 'no', 'kpt', 'i', 'bri', 'institute', 'is', 'expected', 'to', 'produce', 'graduates', 'who', 'are', 'superior', 'and', 'ready', 'to', 'use', 'in', 'the', 'financial', 'industry', 'business', 'that', 'is', 'cultivated', 'and', 'controlled', 'by', 'the', 'bri', 'group', 'among', 'others', 'related', 'to', 'microfinance', 'insurance', 'sharia', 'digital', 'banking', 'and', 'entrepreneurship', 'later', 'graduates', 'are', 'expected', 'to', 'meet', 'the', 'bri', 'groups', 'internal', 'needs', 'and', 'be', 'absorbed', 'by', 'the', 'financial', 'industry', 'in', 'indonesia']\n",
      "Filtered words: ['bank', 'rakyat', 'indonesia', 'institute', 'technology', 'business', 'bri', 'institute', 'private', 'tertiary', 'institution', 'located', 'jl', 'rm', 'harsono', 'ragunan', 'pasar', 'minggu', 'kota', 'jakarta', 'selatan', 'bri', 'institute', 'established', 'november', 'based', 'decree', 'minister', 'research', 'technology', 'higher', 'education', 'republic', 'indonesia', 'kpt', 'bri', 'institute', 'expected', 'produce', 'graduates', 'superior', 'ready', 'use', 'financial', 'industry', 'business', 'cultivated', 'controlled', 'bri', 'group', 'among', 'others', 'related', 'microfinance', 'insurance', 'sharia', 'digital', 'banking', 'entrepreneurship', 'later', 'graduates', 'expected', 'meet', 'bri', 'groups', 'internal', 'needs', 'absorbed', 'financial', 'industry', 'indonesia']\n"
     ]
    }
   ],
   "source": [
    "sample_sentences = get_clean_sentences(sample_sentences, remove_digits = True)\n",
    "sample_words = get_word_tokens(sample_sentences)\n",
    "sample_words = filter_stopwords(sample_words)"
   ]
  },
  {
   "cell_type": "markdown",
   "metadata": {},
   "source": [
    "After cleaning the text and using tokenization, we are left with words. Words have certain properties which we'll be exploring in the next few sections. These characteristics can often be used as features for a Machine Learning model."
   ]
  },
  {
   "cell_type": "markdown",
   "metadata": {},
   "source": [
    "## POS tagging\n",
    "\n",
    "The English language is formed of different parts of speech (POS) like nouns, verbs, pronouns, adjectives, etc. POS tagging analyzes the words in a sentences and associates it with a POS tag depending on the way it is used. Also called grammatical tagging or word-category disambiguation. Use ```nltk.pos_tag``` for the process. There are different types of tagsets used with the most common being the Penn Treebank tagset and the Universal tagset. \n",
    "\n",
    "![Penn POS tags](https://slideplayer.com/slide/6855236/23/images/11/Penn+TreeBank+POS+Tag+set.jpg)"
   ]
  },
  {
   "cell_type": "code",
   "execution_count": 22,
   "metadata": {},
   "outputs": [
    {
     "name": "stderr",
     "output_type": "stream",
     "text": [
      "[nltk_data] Downloading package averaged_perceptron_tagger to\n",
      "[nltk_data]     C:\\Users\\KJRI Shanghai\\AppData\\Roaming\\nltk_data...\n",
      "[nltk_data]   Unzipping taggers\\averaged_perceptron_tagger.zip.\n"
     ]
    }
   ],
   "source": [
    "nltk.download('averaged_perceptron_tagger')\n",
    "\n",
    "def get_pos_tags(words):\n",
    "    '''Get the part of speech (POS) tags for the words'''\n",
    "    tags=[]\n",
    "    for word in words:\n",
    "        tags.append(nltk.pos_tag([word]))\n",
    "#     print(tags)\n",
    "    return tags"
   ]
  },
  {
   "cell_type": "code",
   "execution_count": 23,
   "metadata": {},
   "outputs": [
    {
     "data": {
      "text/plain": [
       "[[('bank', 'NN')],\n",
       " [('rakyat', 'NN')],\n",
       " [('indonesia', 'NN')],\n",
       " [('institute', 'NN')],\n",
       " [('technology', 'NN')],\n",
       " [('business', 'NN')],\n",
       " [('bri', 'NN')],\n",
       " [('institute', 'NN')],\n",
       " [('private', 'JJ')],\n",
       " [('tertiary', 'JJ')],\n",
       " [('institution', 'NN')],\n",
       " [('located', 'VBN')],\n",
       " [('jl', 'NN')],\n",
       " [('rm', 'NN')],\n",
       " [('harsono', 'NN')],\n",
       " [('ragunan', 'NN')],\n",
       " [('pasar', 'NN')],\n",
       " [('minggu', 'NN')],\n",
       " [('kota', 'NN')],\n",
       " [('jakarta', 'NN')],\n",
       " [('selatan', 'NN')],\n",
       " [('bri', 'NN')],\n",
       " [('institute', 'NN')],\n",
       " [('established', 'VBN')],\n",
       " [('november', 'NN')],\n",
       " [('based', 'VBN')],\n",
       " [('decree', 'NN')],\n",
       " [('minister', 'NN')],\n",
       " [('research', 'NN')],\n",
       " [('technology', 'NN')],\n",
       " [('higher', 'JJR')],\n",
       " [('education', 'NN')],\n",
       " [('republic', 'NN')],\n",
       " [('indonesia', 'NN')],\n",
       " [('kpt', 'NN')],\n",
       " [('bri', 'NN')],\n",
       " [('institute', 'NN')],\n",
       " [('expected', 'VBN')],\n",
       " [('produce', 'NN')],\n",
       " [('graduates', 'NNS')],\n",
       " [('superior', 'JJ')],\n",
       " [('ready', 'JJ')],\n",
       " [('use', 'NN')],\n",
       " [('financial', 'JJ')],\n",
       " [('industry', 'NN')],\n",
       " [('business', 'NN')],\n",
       " [('cultivated', 'VBN')],\n",
       " [('controlled', 'VBN')],\n",
       " [('bri', 'NN')],\n",
       " [('group', 'NN')],\n",
       " [('among', 'IN')],\n",
       " [('others', 'NNS')],\n",
       " [('related', 'JJ')],\n",
       " [('microfinance', 'NN')],\n",
       " [('insurance', 'NN')],\n",
       " [('sharia', 'NNS')],\n",
       " [('digital', 'NN')],\n",
       " [('banking', 'NN')],\n",
       " [('entrepreneurship', 'NN')],\n",
       " [('later', 'RB')],\n",
       " [('graduates', 'NNS')],\n",
       " [('expected', 'VBN')],\n",
       " [('meet', 'NN')],\n",
       " [('bri', 'NN')],\n",
       " [('groups', 'NNS')],\n",
       " [('internal', 'JJ')],\n",
       " [('needs', 'NNS')],\n",
       " [('absorbed', 'NNS')],\n",
       " [('financial', 'JJ')],\n",
       " [('industry', 'NN')],\n",
       " [('indonesia', 'NN')]]"
      ]
     },
     "execution_count": 23,
     "metadata": {},
     "output_type": "execute_result"
    }
   ],
   "source": [
    "sample_tags = get_pos_tags(sample_words)\n",
    "sample_tags"
   ]
  },
  {
   "cell_type": "markdown",
   "metadata": {},
   "source": [
    "## Text processing\n",
    "Text processing approaches like stemming and lemmatization help in reducing inflectional forms of words. \n",
    "### Dictionary and thesaurus\n",
    "WordNet is a lexical database that also has relationships between different words. You can use synsets to find definitions, synonyms and antonyms for words. You can also find hyponyms and hypernyms using the same process. Hypernym is a generalized concept like 'programming language' whereas hyponym is a specific concept like 'Python' or 'Java'.\n",
    "\n",
    "![Hypernym and hyponym](https://upload.wikimedia.org/wikipedia/en/thumb/1/1f/Hyponymsandhypernyms.jpg/300px-Hyponymsandhypernyms.jpg)\n"
   ]
  },
  {
   "cell_type": "markdown",
   "metadata": {},
   "source": [
    "## Word Sense Disambiguation\n",
    "\n",
    "These synsets are also used for disambiguation, particularly Word Sense Disambiguation using Lesk Algorithm. See: http://www.nltk.org/howto/wsd.html"
   ]
  },
  {
   "cell_type": "code",
   "execution_count": 28,
   "metadata": {},
   "outputs": [
    {
     "name": "stdout",
     "output_type": "stream",
     "text": [
      "Synset('savings_bank.n.02')\n"
     ]
    }
   ],
   "source": [
    "from nltk.wsd import lesk\n",
    "sent = ['I', 'went', 'to', 'the', 'bank', 'to', 'deposit', 'money', '.']\n",
    "print(lesk(sent, 'bank', 'n'))"
   ]
  },
  {
   "cell_type": "code",
   "execution_count": 29,
   "metadata": {},
   "outputs": [
    {
     "name": "stdout",
     "output_type": "stream",
     "text": [
      "Synset('bank.n.06')\n"
     ]
    }
   ],
   "source": [
    "sent = ['I', 'was', 'sitting', 'by', 'the', 'bank', '.']\n",
    "print(lesk(sent, 'bank', 'n'))"
   ]
  },
  {
   "cell_type": "code",
   "execution_count": 30,
   "metadata": {},
   "outputs": [
    {
     "name": "stdout",
     "output_type": "stream",
     "text": [
      "Synset('savings_bank.n.02')\n"
     ]
    }
   ],
   "source": [
    "sent = ['I', 'was', 'waiting', 'at', 'the', 'blood', 'bank', '.']\n",
    "print(lesk(sent, 'bank', 'n'))"
   ]
  },
  {
   "cell_type": "markdown",
   "metadata": {},
   "source": [
    "### Stemming\n",
    "Stemming tries to cut off at the ends of the words in the hope of deriving the base form. Stems aren't always real words. Use ```PorterStemmer``` from ```ntlk.stem```."
   ]
  },
  {
   "cell_type": "code",
   "execution_count": 31,
   "metadata": {},
   "outputs": [],
   "source": [
    "from nltk.stem import PorterStemmer\n",
    "\n",
    "def get_stems(words):\n",
    "    '''Reduce the words to their base word (stem) by cutting off the ends'''\n",
    "    ps = PorterStemmer()\n",
    "    stems = []\n",
    "    for word in words:\n",
    "        stems.append(ps.stem(word))\n",
    "    print(stems)\n",
    "    return stems"
   ]
  },
  {
   "cell_type": "code",
   "execution_count": 32,
   "metadata": {
    "scrolled": true
   },
   "outputs": [
    {
     "name": "stdout",
     "output_type": "stream",
     "text": [
      "['bank', 'rakyat', 'indonesia', 'institut', 'technolog', 'busi', 'bri', 'institut', 'privat', 'tertiari', 'institut', 'locat', 'jl', 'rm', 'harsono', 'ragunan', 'pasar', 'minggu', 'kota', 'jakarta', 'selatan', 'bri', 'institut', 'establish', 'novemb', 'base', 'decre', 'minist', 'research', 'technolog', 'higher', 'educ', 'republ', 'indonesia', 'kpt', 'bri', 'institut', 'expect', 'produc', 'graduat', 'superior', 'readi', 'use', 'financi', 'industri', 'busi', 'cultiv', 'control', 'bri', 'group', 'among', 'other', 'relat', 'microfin', 'insur', 'sharia', 'digit', 'bank', 'entrepreneurship', 'later', 'graduat', 'expect', 'meet', 'bri', 'group', 'intern', 'need', 'absorb', 'financi', 'industri', 'indonesia']\n"
     ]
    }
   ],
   "source": [
    "sample_stems = get_stems(sample_words)"
   ]
  },
  {
   "cell_type": "markdown",
   "metadata": {},
   "source": [
    "### Lemmatization\n",
    "Lemmatization groups different inflected forms of a words so they can be mapped to the same base. Lemmas are real words. More complex than stemming, context of words is also analyzed. Uses WordNet which is a lexical English database. \n",
    "Use ```WordNetLemmatizer``` from ```nltk.stem``` and provide it the POS tag along with the word. NLTK’s POS tags are in a format different from to that of wordnet lemmatizer, so a mapping is needed. https://stackoverflow.com/questions/15586721/wordnet-lemmatization-and-pos-tagging-in-python\n"
   ]
  },
  {
   "cell_type": "code",
   "execution_count": 33,
   "metadata": {},
   "outputs": [
    {
     "name": "stderr",
     "output_type": "stream",
     "text": [
      "[nltk_data] Downloading package wordnet to C:\\Users\\KJRI\n",
      "[nltk_data]     Shanghai\\AppData\\Roaming\\nltk_data...\n",
      "[nltk_data]   Package wordnet is already up-to-date!\n"
     ]
    }
   ],
   "source": [
    "nltk.download('wordnet')\n",
    "from nltk.stem import WordNetLemmatizer\n",
    "from nltk.corpus import wordnet\n",
    "\n",
    "def get_lemma(word_tags):\n",
    "    '''Reduce the words to their base word (lemma) by using a lexicon'''\n",
    "    wordnet_lemmatizer = WordNetLemmatizer()\n",
    "    lemma = []\n",
    "    for element in word_tags:\n",
    "        word = element[0][0]\n",
    "        pos = element[0][1]\n",
    "        tag = nltk.pos_tag([word])[0][1][0].upper()\n",
    "        tag_dict = {\"J\": wordnet.ADJ, # Mapping NLTK POS tags to WordNet POS tags\n",
    "                \"N\": wordnet.NOUN,\n",
    "                \"V\": wordnet.VERB,\n",
    "                \"R\": wordnet.ADV}\n",
    "\n",
    "        wordnet_pos = tag_dict.get(tag, wordnet.NOUN)\n",
    "        lemma.append(wordnet_lemmatizer.lemmatize(word, wordnet_pos))\n",
    "    print(lemma)\n",
    "    return(lemma)"
   ]
  },
  {
   "cell_type": "code",
   "execution_count": 34,
   "metadata": {
    "scrolled": true
   },
   "outputs": [
    {
     "name": "stdout",
     "output_type": "stream",
     "text": [
      "['bank', 'rakyat', 'indonesia', 'institute', 'technology', 'business', 'bri', 'institute', 'private', 'tertiary', 'institution', 'locate', 'jl', 'rm', 'harsono', 'ragunan', 'pasar', 'minggu', 'kota', 'jakarta', 'selatan', 'bri', 'institute', 'establish', 'november', 'base', 'decree', 'minister', 'research', 'technology', 'high', 'education', 'republic', 'indonesia', 'kpt', 'bri', 'institute', 'expect', 'produce', 'graduate', 'superior', 'ready', 'use', 'financial', 'industry', 'business', 'cultivate', 'control', 'bri', 'group', 'among', 'others', 'related', 'microfinance', 'insurance', 'sharia', 'digital', 'banking', 'entrepreneurship', 'later', 'graduate', 'expect', 'meet', 'bri', 'group', 'internal', 'need', 'absorbed', 'financial', 'industry', 'indonesia']\n"
     ]
    }
   ],
   "source": [
    "sample_lemma = get_lemma(sample_tags)"
   ]
  },
  {
   "cell_type": "markdown",
   "metadata": {},
   "source": [
    "These processes can create features that act as inputs to predictive models. It also helps in using lesser memory by making the data smaller and reducing the size of the vocabulary. Often times, these normalized words are sufficient to provide the semantics. Like in the case of understanding the meaning behind the sentences:"
   ]
  },
  {
   "cell_type": "markdown",
   "metadata": {},
   "source": [
    "## Distances \n",
    "You can calculate distances between words. There are a variety of distance metrics available: https://en.wikipedia.org/wiki/String_metric. The most common ones are Levenshtein, Cosine distances and Jaccard similarity. Applications include spell checking, correction for OCRs and Machine Translation. For an implementation of a spell checker, see here: https://norvig.com/spell-correct.html\n",
    "\n",
    "![Edit distance](https://i.stack.imgur.com/5Pjr7.png)\n"
   ]
  },
  {
   "cell_type": "markdown",
   "metadata": {},
   "source": [
    "## Named Entity Recognition (NER) \n",
    "\n",
    "Also known as entity chunking or extraction, is a sub-process of information extraction. This involves identifies and classifies named entities mentions into sub-categories like person name, organization, location, time, etc.  In other words, Named Entity Recognition (NER) labels sequences of words in a text which are the names of things, such as person and company names, or gene and protein names. \n",
    "\n",
    "Some of the most popular NER models are here: https://towardsdatascience.com/a-review-of-named-entity-recognition-ner-using-automatic-summarization-of-resumes-5248a75de175. <br>\n",
    "\n",
    "Example use-cases include customer support, search engine, news classification. Another emerging application is for redacting personally identifiable information (PII). A great demo of NER in action is here: https://explosion.ai/demos/displacy-ent\n"
   ]
  },
  {
   "cell_type": "markdown",
   "metadata": {},
   "source": [
    "## Bag of words\n",
    "Bag of words is an approach for text feature extraction. Just imagine a bag of popcorn, \n",
    "and each popcorn kernel represents a word that is present in the text. Each sentence can be represented as a vector\n",
    "of all the words present in a vocabulary. If a word is present in the sentence, it is 1, otherwise 0.\n",
    "\n",
    "![Bag of words](https://cdn-images-1.medium.com/max/1600/1*zMdHVQQ7HYv_mMZ5Ne-2yQ.png)\n",
    "\n",
    "## TF-IDF\n",
    "Term-frequency inverse document frequency assigns scores to words inside a document. Commonly occuring words in all documents would have less weightage.\n",
    "![TF IDF](http://www.bloter.net/wp-content/uploads/2016/09/td-idf-graphic.png)"
   ]
  },
  {
   "cell_type": "code",
   "execution_count": 35,
   "metadata": {},
   "outputs": [],
   "source": [
    "import sklearn\n",
    "from sklearn.feature_extraction.text import CountVectorizer\n",
    "\n",
    "def get_bag_of_words(sentences):\n",
    "    ''''''\n",
    "    vectorizer = CountVectorizer()\n",
    "    print(vectorizer.fit_transform(sentences).todense())\n",
    "    print(vectorizer.vocabulary_)"
   ]
  },
  {
   "cell_type": "code",
   "execution_count": 36,
   "metadata": {},
   "outputs": [
    {
     "name": "stdout",
     "output_type": "stream",
     "text": [
      "[[1 1 2 1 1 6 2 1 1 1 1 5 2 2 1 1 1 1 1 1 1 2 2 2 2 1 1 2 3 2 4 1 1 1 3 1\n",
      "  1 1 1 1 1 1 1 1 1 1 2 1 4 3 1 1 1 1 1 1 1 1 1 1 1 1 1 1 1 2 1 1 6 4 1 1\n",
      "  1]]\n",
      "{'bank': 7, 'rakyat': 56, 'indonesia': 28, 'institute': 30, 'of': 48, 'technology': 65, 'and': 5, 'business': 12, 'or': 50, 'bri': 11, 'is': 34, 'private': 53, 'tertiary': 66, 'institution': 31, 'located': 40, 'on': 49, 'jl': 36, 'rm': 61, 'harsono': 25, 'no': 46, 'ragunan': 55, 'pasar': 52, 'minggu': 43, 'kota': 37, 'jakarta': 35, 'selatan': 62, 'was': 71, 'established': 20, 'november': 47, '14': 1, '2018': 2, 'based': 9, 'the': 68, 'decree': 16, 'minister': 44, 'research': 60, 'higher': 26, 'education': 18, 'republic': 59, '1014': 0, 'kpt': 38, 'expected': 21, 'to': 69, 'produce': 54, 'graduates': 23, 'who': 72, 'are': 6, 'superior': 64, 'ready': 57, 'use': 70, 'in': 27, 'financial': 22, 'industry': 29, 'that': 67, 'cultivated': 15, 'controlled': 14, 'by': 13, 'group': 24, 'among': 4, 'others': 51, 'related': 58, 'microfinance': 42, 'insurance': 32, 'sharia': 63, 'digital': 17, 'banking': 8, 'entrepreneurship': 19, 'later': 39, 'meet': 41, 'internal': 33, 'needs': 45, 'be': 10, 'absorbed': 3}\n"
     ]
    }
   ],
   "source": [
    "get_bag_of_words(sample_data)"
   ]
  },
  {
   "cell_type": "markdown",
   "metadata": {},
   "source": [
    "## Resources\n",
    "\n",
    "- More on NLP https://monkeylearn.com/blog/definitive-guide-natural-language-processing/\n",
    "- A very comprehensive list of resources by Penn https://www.seas.upenn.edu/~romap/nlp-resources.html\n",
    "- Peter Norvig's spell corrector http://norvig.com/spell-correct.html\n",
    "- Applications and datasets https://machinelearningmastery.com/datasets-natural-language-processing/\n",
    "- More datasets https://gengo.ai/datasets/the-best-25-datasets-for-natural-language-processing/\n",
    "- https://towardsdatascience.com/text-analytics-topic-modelling-on-music-genres-song-lyrics-deb82c86caa2\n",
    "- Collection of tutorials https://medium.com/machine-learning-in-practice/over-200-of-the-best-machine-learning-nlp-and-python-tutorials-2018-edition-dd8cf53cb7dc\n",
    "- Text classification https://textminingonline.com/dive-into-nltk-part-vii-a-preliminary-study-on-text-classification\n"
   ]
  }
 ],
 "metadata": {
  "kernelspec": {
   "display_name": "Python 3",
   "language": "python",
   "name": "python3"
  },
  "language_info": {
   "codemirror_mode": {
    "name": "ipython",
    "version": 3
   },
   "file_extension": ".py",
   "mimetype": "text/x-python",
   "name": "python",
   "nbconvert_exporter": "python",
   "pygments_lexer": "ipython3",
   "version": "3.7.3"
  }
 },
 "nbformat": 4,
 "nbformat_minor": 2
}
