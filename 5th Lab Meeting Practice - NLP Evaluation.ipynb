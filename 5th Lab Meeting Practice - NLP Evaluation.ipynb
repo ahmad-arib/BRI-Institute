{
 "cells": [
  {
   "cell_type": "markdown",
   "metadata": {},
   "source": [
    "## SMS: Spam or Ham\n",
    "\n",
    "Wikipedia describes Spam as “the use of electronic messaging systems to send unsolicited bulk messages, especially advertising, indiscriminately.”\n",
    "\n",
    "According to Wiktionary Ham is “Message that is generally desired and isn't considered spam.”\n",
    "\n",
    "The dataset contains text of 5572 SMS messages and a label, classifying the message as \"spam\" or \"ham\".\n",
    "Here we explore some common techniques of NLP like:\n",
    "\n",
    "* Removing Punctuation and Stopwords\n",
    "* Tokenizer, Bag of words\n",
    "* Term frequency inverse document frequency (TFIDF)\n",
    "\n",
    "\n",
    "Based on these preprocessing, we train 6 different models that classify unknown messages as spam or ham.\n",
    "\n",
    "* Naive Bayes Classifier\n",
    "* SVM Classifier\n",
    "* KNN Classifier\n",
    "* SGD Classifier\n",
    "* Gradient Boosting Classifier\n",
    "* XGBoost Classifier\n",
    "\n",
    "For easier handling of the preprocessing steps (for train and test data) and the optimization of different\n",
    "models for the same conditions, the classification is done with Pipelines including GridSearchCV.\n",
    "Finally, for the model evaluation different metrics are examined:\n",
    "accuracy, precision, recall, fscore, roc_auc."
   ]
  },
  {
   "cell_type": "markdown",
   "metadata": {},
   "source": [
    "## Part 0: Imports, define functions"
   ]
  },
  {
   "cell_type": "code",
   "execution_count": 2,
   "metadata": {},
   "outputs": [],
   "source": [
    "import numpy as np\n",
    "import pandas as pd\n",
    "\n",
    "import matplotlib.pyplot as plt\n",
    "import seaborn as sns\n",
    "%matplotlib inline\n",
    "\n",
    "from sklearn.preprocessing import MinMaxScaler\n",
    "\n",
    "from sklearn.naive_bayes import MultinomialNB\n",
    "from sklearn.svm import SVC\n",
    "from sklearn.neighbors import KNeighborsClassifier\n",
    "from sklearn.linear_model import SGDClassifier\n",
    "from sklearn.ensemble import GradientBoostingClassifier\n",
    "\n",
    "\n",
    "from sklearn.pipeline import Pipeline\n",
    "from sklearn.model_selection import GridSearchCV\n",
    "from sklearn.metrics import classification_report, confusion_matrix, accuracy_score\n",
    "\n",
    "import wordcloud\n",
    "import nltk\n",
    "from nltk.corpus import stopwords\n",
    "from nltk.tokenize import word_tokenize"
   ]
  },
  {
   "cell_type": "code",
   "execution_count": 3,
   "metadata": {},
   "outputs": [
    {
     "name": "stdout",
     "output_type": "stream",
     "text": [
      "['.git', '.ipynb_checkpoints', 'LICENSE', 'NLP.ipynb', 'README.md', 'spam.csv']\n"
     ]
    }
   ],
   "source": [
    "import os\n",
    "print(os.listdir(\".\"))"
   ]
  },
  {
   "cell_type": "markdown",
   "metadata": {},
   "source": [
    "## function\n",
    "\n",
    "print Classification Report and Accuracy"
   ]
  },
  {
   "cell_type": "code",
   "execution_count": 4,
   "metadata": {},
   "outputs": [],
   "source": [
    "def print_validation_report(y_true, y_pred):\n",
    "    print(\"Classification Report\")\n",
    "    print(classification_report(y_true, y_pred))\n",
    "    acc_sc = accuracy_score(y_true, y_pred)\n",
    "    print(\"Accuracy : \"+ str(acc_sc))\n",
    "    \n",
    "    return acc_sc"
   ]
  },
  {
   "cell_type": "markdown",
   "metadata": {},
   "source": [
    "plot_confusion_matrix"
   ]
  },
  {
   "cell_type": "code",
   "execution_count": 5,
   "metadata": {},
   "outputs": [],
   "source": [
    "def plot_confusion_matrix(y_true, y_pred):\n",
    "    mtx = confusion_matrix(y_true, y_pred)\n",
    "    #fig, ax = plt.subplots(figsize=(4,4))\n",
    "    sns.heatmap(mtx, annot=True, fmt='d', linewidths=.5,  \n",
    "                cmap=\"Blues\", cbar=False, ax=ax)\n",
    "    #  square=True,\n",
    "    plt.ylabel('true label')\n",
    "    plt.xlabel('predicted label')"
   ]
  },
  {
   "cell_type": "markdown",
   "metadata": {},
   "source": [
    "## Part 1: EDA"
   ]
  },
  {
   "cell_type": "code",
   "execution_count": 6,
   "metadata": {},
   "outputs": [
    {
     "data": {
      "text/html": [
       "<div>\n",
       "<style scoped>\n",
       "    .dataframe tbody tr th:only-of-type {\n",
       "        vertical-align: middle;\n",
       "    }\n",
       "\n",
       "    .dataframe tbody tr th {\n",
       "        vertical-align: top;\n",
       "    }\n",
       "\n",
       "    .dataframe thead th {\n",
       "        text-align: right;\n",
       "    }\n",
       "</style>\n",
       "<table border=\"1\" class=\"dataframe\">\n",
       "  <thead>\n",
       "    <tr style=\"text-align: right;\">\n",
       "      <th></th>\n",
       "      <th>v1</th>\n",
       "      <th>v2</th>\n",
       "      <th>Unnamed: 2</th>\n",
       "      <th>Unnamed: 3</th>\n",
       "      <th>Unnamed: 4</th>\n",
       "    </tr>\n",
       "  </thead>\n",
       "  <tbody>\n",
       "    <tr>\n",
       "      <td>0</td>\n",
       "      <td>ham</td>\n",
       "      <td>Go until jurong point, crazy.. Available only ...</td>\n",
       "      <td>NaN</td>\n",
       "      <td>NaN</td>\n",
       "      <td>NaN</td>\n",
       "    </tr>\n",
       "    <tr>\n",
       "      <td>1</td>\n",
       "      <td>ham</td>\n",
       "      <td>Ok lar... Joking wif u oni...</td>\n",
       "      <td>NaN</td>\n",
       "      <td>NaN</td>\n",
       "      <td>NaN</td>\n",
       "    </tr>\n",
       "    <tr>\n",
       "      <td>2</td>\n",
       "      <td>spam</td>\n",
       "      <td>Free entry in 2 a wkly comp to win FA Cup fina...</td>\n",
       "      <td>NaN</td>\n",
       "      <td>NaN</td>\n",
       "      <td>NaN</td>\n",
       "    </tr>\n",
       "    <tr>\n",
       "      <td>3</td>\n",
       "      <td>ham</td>\n",
       "      <td>U dun say so early hor... U c already then say...</td>\n",
       "      <td>NaN</td>\n",
       "      <td>NaN</td>\n",
       "      <td>NaN</td>\n",
       "    </tr>\n",
       "    <tr>\n",
       "      <td>4</td>\n",
       "      <td>ham</td>\n",
       "      <td>Nah I don't think he goes to usf, he lives aro...</td>\n",
       "      <td>NaN</td>\n",
       "      <td>NaN</td>\n",
       "      <td>NaN</td>\n",
       "    </tr>\n",
       "  </tbody>\n",
       "</table>\n",
       "</div>"
      ],
      "text/plain": [
       "     v1                                                 v2 Unnamed: 2  \\\n",
       "0   ham  Go until jurong point, crazy.. Available only ...        NaN   \n",
       "1   ham                      Ok lar... Joking wif u oni...        NaN   \n",
       "2  spam  Free entry in 2 a wkly comp to win FA Cup fina...        NaN   \n",
       "3   ham  U dun say so early hor... U c already then say...        NaN   \n",
       "4   ham  Nah I don't think he goes to usf, he lives aro...        NaN   \n",
       "\n",
       "  Unnamed: 3 Unnamed: 4  \n",
       "0        NaN        NaN  \n",
       "1        NaN        NaN  \n",
       "2        NaN        NaN  \n",
       "3        NaN        NaN  \n",
       "4        NaN        NaN  "
      ]
     },
     "execution_count": 6,
     "metadata": {},
     "output_type": "execute_result"
    }
   ],
   "source": [
    "data = pd.read_csv(\"./spam.csv\",encoding='ISO-8859-1')\n",
    "data.head()"
   ]
  },
  {
   "cell_type": "code",
   "execution_count": 7,
   "metadata": {},
   "outputs": [
    {
     "data": {
      "text/html": [
       "<div>\n",
       "<style scoped>\n",
       "    .dataframe tbody tr th:only-of-type {\n",
       "        vertical-align: middle;\n",
       "    }\n",
       "\n",
       "    .dataframe tbody tr th {\n",
       "        vertical-align: top;\n",
       "    }\n",
       "\n",
       "    .dataframe thead th {\n",
       "        text-align: right;\n",
       "    }\n",
       "</style>\n",
       "<table border=\"1\" class=\"dataframe\">\n",
       "  <thead>\n",
       "    <tr style=\"text-align: right;\">\n",
       "      <th></th>\n",
       "      <th>v1</th>\n",
       "      <th>v2</th>\n",
       "      <th>Unnamed: 2</th>\n",
       "      <th>Unnamed: 3</th>\n",
       "      <th>Unnamed: 4</th>\n",
       "    </tr>\n",
       "  </thead>\n",
       "  <tbody>\n",
       "    <tr>\n",
       "      <td>0</td>\n",
       "      <td>ham</td>\n",
       "      <td>Go until jurong point, crazy.. Available only ...</td>\n",
       "      <td>NaN</td>\n",
       "      <td>NaN</td>\n",
       "      <td>NaN</td>\n",
       "    </tr>\n",
       "    <tr>\n",
       "      <td>1</td>\n",
       "      <td>ham</td>\n",
       "      <td>Ok lar... Joking wif u oni...</td>\n",
       "      <td>NaN</td>\n",
       "      <td>NaN</td>\n",
       "      <td>NaN</td>\n",
       "    </tr>\n",
       "    <tr>\n",
       "      <td>2</td>\n",
       "      <td>spam</td>\n",
       "      <td>Free entry in 2 a wkly comp to win FA Cup fina...</td>\n",
       "      <td>NaN</td>\n",
       "      <td>NaN</td>\n",
       "      <td>NaN</td>\n",
       "    </tr>\n",
       "    <tr>\n",
       "      <td>3</td>\n",
       "      <td>ham</td>\n",
       "      <td>U dun say so early hor... U c already then say...</td>\n",
       "      <td>NaN</td>\n",
       "      <td>NaN</td>\n",
       "      <td>NaN</td>\n",
       "    </tr>\n",
       "    <tr>\n",
       "      <td>4</td>\n",
       "      <td>ham</td>\n",
       "      <td>Nah I don't think he goes to usf, he lives aro...</td>\n",
       "      <td>NaN</td>\n",
       "      <td>NaN</td>\n",
       "      <td>NaN</td>\n",
       "    </tr>\n",
       "  </tbody>\n",
       "</table>\n",
       "</div>"
      ],
      "text/plain": [
       "     v1                                                 v2 Unnamed: 2  \\\n",
       "0   ham  Go until jurong point, crazy.. Available only ...        NaN   \n",
       "1   ham                      Ok lar... Joking wif u oni...        NaN   \n",
       "2  spam  Free entry in 2 a wkly comp to win FA Cup fina...        NaN   \n",
       "3   ham  U dun say so early hor... U c already then say...        NaN   \n",
       "4   ham  Nah I don't think he goes to usf, he lives aro...        NaN   \n",
       "\n",
       "  Unnamed: 3 Unnamed: 4  \n",
       "0        NaN        NaN  \n",
       "1        NaN        NaN  \n",
       "2        NaN        NaN  \n",
       "3        NaN        NaN  \n",
       "4        NaN        NaN  "
      ]
     },
     "execution_count": 7,
     "metadata": {},
     "output_type": "execute_result"
    }
   ],
   "source": [
    "data = pd.read_csv(\"./spam.csv\",encoding='latin-1')\n",
    "data.head()"
   ]
  },
  {
   "cell_type": "markdown",
   "metadata": {},
   "source": [
    "Columns 2,3,4 contain no important data and can be deleted.\n",
    "Also, we rename column v1 as \"label\" and v2 as \"text\""
   ]
  },
  {
   "cell_type": "code",
   "execution_count": 8,
   "metadata": {},
   "outputs": [],
   "source": [
    "data = data.drop([\"Unnamed: 2\", \"Unnamed: 3\", \"Unnamed: 4\"], axis=1)\n",
    "data = data.rename(columns={\"v1\":\"label\", \"v2\":\"text\"})"
   ]
  },
  {
   "cell_type": "code",
   "execution_count": 9,
   "metadata": {},
   "outputs": [
    {
     "data": {
      "text/html": [
       "<div>\n",
       "<style scoped>\n",
       "    .dataframe tbody tr th:only-of-type {\n",
       "        vertical-align: middle;\n",
       "    }\n",
       "\n",
       "    .dataframe tbody tr th {\n",
       "        vertical-align: top;\n",
       "    }\n",
       "\n",
       "    .dataframe thead th {\n",
       "        text-align: right;\n",
       "    }\n",
       "</style>\n",
       "<table border=\"1\" class=\"dataframe\">\n",
       "  <thead>\n",
       "    <tr style=\"text-align: right;\">\n",
       "      <th></th>\n",
       "      <th>label</th>\n",
       "      <th>text</th>\n",
       "    </tr>\n",
       "  </thead>\n",
       "  <tbody>\n",
       "    <tr>\n",
       "      <td>count</td>\n",
       "      <td>5572</td>\n",
       "      <td>5572</td>\n",
       "    </tr>\n",
       "    <tr>\n",
       "      <td>unique</td>\n",
       "      <td>2</td>\n",
       "      <td>5169</td>\n",
       "    </tr>\n",
       "    <tr>\n",
       "      <td>top</td>\n",
       "      <td>ham</td>\n",
       "      <td>Sorry, I'll call later</td>\n",
       "    </tr>\n",
       "    <tr>\n",
       "      <td>freq</td>\n",
       "      <td>4825</td>\n",
       "      <td>30</td>\n",
       "    </tr>\n",
       "  </tbody>\n",
       "</table>\n",
       "</div>"
      ],
      "text/plain": [
       "       label                    text\n",
       "count   5572                    5572\n",
       "unique     2                    5169\n",
       "top      ham  Sorry, I'll call later\n",
       "freq    4825                      30"
      ]
     },
     "execution_count": 9,
     "metadata": {},
     "output_type": "execute_result"
    }
   ],
   "source": [
    "data.describe()"
   ]
  },
  {
   "cell_type": "code",
   "execution_count": 10,
   "metadata": {},
   "outputs": [
    {
     "data": {
      "text/html": [
       "<div>\n",
       "<style scoped>\n",
       "    .dataframe tbody tr th:only-of-type {\n",
       "        vertical-align: middle;\n",
       "    }\n",
       "\n",
       "    .dataframe tbody tr th {\n",
       "        vertical-align: top;\n",
       "    }\n",
       "\n",
       "    .dataframe thead tr th {\n",
       "        text-align: left;\n",
       "    }\n",
       "\n",
       "    .dataframe thead tr:last-of-type th {\n",
       "        text-align: right;\n",
       "    }\n",
       "</style>\n",
       "<table border=\"1\" class=\"dataframe\">\n",
       "  <thead>\n",
       "    <tr>\n",
       "      <th></th>\n",
       "      <th colspan=\"4\" halign=\"left\">text</th>\n",
       "    </tr>\n",
       "    <tr>\n",
       "      <th></th>\n",
       "      <th>count</th>\n",
       "      <th>unique</th>\n",
       "      <th>top</th>\n",
       "      <th>freq</th>\n",
       "    </tr>\n",
       "    <tr>\n",
       "      <th>label</th>\n",
       "      <th></th>\n",
       "      <th></th>\n",
       "      <th></th>\n",
       "      <th></th>\n",
       "    </tr>\n",
       "  </thead>\n",
       "  <tbody>\n",
       "    <tr>\n",
       "      <td>ham</td>\n",
       "      <td>4825</td>\n",
       "      <td>4516</td>\n",
       "      <td>Sorry, I'll call later</td>\n",
       "      <td>30</td>\n",
       "    </tr>\n",
       "    <tr>\n",
       "      <td>spam</td>\n",
       "      <td>747</td>\n",
       "      <td>653</td>\n",
       "      <td>Please call our customer service representativ...</td>\n",
       "      <td>4</td>\n",
       "    </tr>\n",
       "  </tbody>\n",
       "</table>\n",
       "</div>"
      ],
      "text/plain": [
       "       text                                                               \n",
       "      count unique                                                top freq\n",
       "label                                                                     \n",
       "ham    4825   4516                             Sorry, I'll call later   30\n",
       "spam    747    653  Please call our customer service representativ...    4"
      ]
     },
     "execution_count": 10,
     "metadata": {},
     "output_type": "execute_result"
    }
   ],
   "source": [
    "data.groupby(\"label\").describe()"
   ]
  },
  {
   "cell_type": "code",
   "execution_count": 11,
   "metadata": {},
   "outputs": [
    {
     "data": {
      "text/plain": [
       "ham     4825\n",
       "spam     747\n",
       "Name: label, dtype: int64"
      ]
     },
     "execution_count": 11,
     "metadata": {},
     "output_type": "execute_result"
    }
   ],
   "source": [
    "data.label.value_counts()"
   ]
  },
  {
   "cell_type": "code",
   "execution_count": 12,
   "metadata": {},
   "outputs": [
    {
     "data": {
      "text/plain": [
       "<matplotlib.axes._subplots.AxesSubplot at 0x1e672dc5908>"
      ]
     },
     "execution_count": 12,
     "metadata": {},
     "output_type": "execute_result"
    },
    {
     "data": {
      "image/png": "[encoded data removed]",
      "text/plain": [
       "<Figure size 432x288 with 1 Axes>"
      ]
     },
     "metadata": {
      "needs_background": "light"
     },
     "output_type": "display_data"
    }
   ],
   "source": [
    "data.label.value_counts().plot.bar()"
   ]
  },
  {
   "cell_type": "markdown",
   "metadata": {},
   "source": [
    "## Add numerical label for spam\n",
    "Target must be numerical for ML classification models"
   ]
  },
  {
   "cell_type": "code",
   "execution_count": 13,
   "metadata": {},
   "outputs": [
    {
     "data": {
      "text/html": [
       "<div>\n",
       "<style scoped>\n",
       "    .dataframe tbody tr th:only-of-type {\n",
       "        vertical-align: middle;\n",
       "    }\n",
       "\n",
       "    .dataframe tbody tr th {\n",
       "        vertical-align: top;\n",
       "    }\n",
       "\n",
       "    .dataframe thead th {\n",
       "        text-align: right;\n",
       "    }\n",
       "</style>\n",
       "<table border=\"1\" class=\"dataframe\">\n",
       "  <thead>\n",
       "    <tr style=\"text-align: right;\">\n",
       "      <th></th>\n",
       "      <th>label</th>\n",
       "      <th>text</th>\n",
       "      <th>spam</th>\n",
       "    </tr>\n",
       "  </thead>\n",
       "  <tbody>\n",
       "    <tr>\n",
       "      <td>0</td>\n",
       "      <td>ham</td>\n",
       "      <td>Go until jurong point, crazy.. Available only ...</td>\n",
       "      <td>0</td>\n",
       "    </tr>\n",
       "    <tr>\n",
       "      <td>1</td>\n",
       "      <td>ham</td>\n",
       "      <td>Ok lar... Joking wif u oni...</td>\n",
       "      <td>0</td>\n",
       "    </tr>\n",
       "    <tr>\n",
       "      <td>2</td>\n",
       "      <td>spam</td>\n",
       "      <td>Free entry in 2 a wkly comp to win FA Cup fina...</td>\n",
       "      <td>1</td>\n",
       "    </tr>\n",
       "    <tr>\n",
       "      <td>3</td>\n",
       "      <td>ham</td>\n",
       "      <td>U dun say so early hor... U c already then say...</td>\n",
       "      <td>0</td>\n",
       "    </tr>\n",
       "    <tr>\n",
       "      <td>4</td>\n",
       "      <td>ham</td>\n",
       "      <td>Nah I don't think he goes to usf, he lives aro...</td>\n",
       "      <td>0</td>\n",
       "    </tr>\n",
       "  </tbody>\n",
       "</table>\n",
       "</div>"
      ],
      "text/plain": [
       "  label                                               text  spam\n",
       "0   ham  Go until jurong point, crazy.. Available only ...     0\n",
       "1   ham                      Ok lar... Joking wif u oni...     0\n",
       "2  spam  Free entry in 2 a wkly comp to win FA Cup fina...     1\n",
       "3   ham  U dun say so early hor... U c already then say...     0\n",
       "4   ham  Nah I don't think he goes to usf, he lives aro...     0"
      ]
     },
     "execution_count": 13,
     "metadata": {},
     "output_type": "execute_result"
    }
   ],
   "source": [
    "data['spam'] = data['label'].map( {'spam': 1, 'ham': 0} ).astype(int)\n",
    "data.head()"
   ]
  },
  {
   "cell_type": "code",
   "execution_count": 14,
   "metadata": {},
   "outputs": [
    {
     "data": {
      "text/html": [
       "<div>\n",
       "<style scoped>\n",
       "    .dataframe tbody tr th:only-of-type {\n",
       "        vertical-align: middle;\n",
       "    }\n",
       "\n",
       "    .dataframe tbody tr th {\n",
       "        vertical-align: top;\n",
       "    }\n",
       "\n",
       "    .dataframe thead th {\n",
       "        text-align: right;\n",
       "    }\n",
       "</style>\n",
       "<table border=\"1\" class=\"dataframe\">\n",
       "  <thead>\n",
       "    <tr style=\"text-align: right;\">\n",
       "      <th></th>\n",
       "      <th>label</th>\n",
       "      <th>text</th>\n",
       "      <th>spam</th>\n",
       "      <th>length</th>\n",
       "    </tr>\n",
       "  </thead>\n",
       "  <tbody>\n",
       "    <tr>\n",
       "      <td>0</td>\n",
       "      <td>ham</td>\n",
       "      <td>Go until jurong point, crazy.. Available only ...</td>\n",
       "      <td>0</td>\n",
       "      <td>111</td>\n",
       "    </tr>\n",
       "    <tr>\n",
       "      <td>1</td>\n",
       "      <td>ham</td>\n",
       "      <td>Ok lar... Joking wif u oni...</td>\n",
       "      <td>0</td>\n",
       "      <td>29</td>\n",
       "    </tr>\n",
       "    <tr>\n",
       "      <td>2</td>\n",
       "      <td>spam</td>\n",
       "      <td>Free entry in 2 a wkly comp to win FA Cup fina...</td>\n",
       "      <td>1</td>\n",
       "      <td>155</td>\n",
       "    </tr>\n",
       "    <tr>\n",
       "      <td>3</td>\n",
       "      <td>ham</td>\n",
       "      <td>U dun say so early hor... U c already then say...</td>\n",
       "      <td>0</td>\n",
       "      <td>49</td>\n",
       "    </tr>\n",
       "    <tr>\n",
       "      <td>4</td>\n",
       "      <td>ham</td>\n",
       "      <td>Nah I don't think he goes to usf, he lives aro...</td>\n",
       "      <td>0</td>\n",
       "      <td>61</td>\n",
       "    </tr>\n",
       "  </tbody>\n",
       "</table>\n",
       "</div>"
      ],
      "text/plain": [
       "  label                                               text  spam  length\n",
       "0   ham  Go until jurong point, crazy.. Available only ...     0     111\n",
       "1   ham                      Ok lar... Joking wif u oni...     0      29\n",
       "2  spam  Free entry in 2 a wkly comp to win FA Cup fina...     1     155\n",
       "3   ham  U dun say so early hor... U c already then say...     0      49\n",
       "4   ham  Nah I don't think he goes to usf, he lives aro...     0      61"
      ]
     },
     "execution_count": 14,
     "metadata": {},
     "output_type": "execute_result"
    }
   ],
   "source": [
    "data['length'] = data['text'].apply(len)\n",
    "data.head()"
   ]
  },
  {
   "cell_type": "code",
   "execution_count": 15,
   "metadata": {},
   "outputs": [
    {
     "data": {
      "text/plain": [
       "(-40, 950)"
      ]
     },
     "execution_count": 15,
     "metadata": {},
     "output_type": "execute_result"
    },
    {
     "data": {
      "image/png": "[encoded data removed]",
      "text/plain": [
       "<Figure size 864x288 with 2 Axes>"
      ]
     },
     "metadata": {
      "needs_background": "light"
     },
     "output_type": "display_data"
    }
   ],
   "source": [
    "data.hist(column='length',by='label',bins=60,figsize=(12,4))\n",
    "plt.xlim(-40,950)"
   ]
  },
  {
   "cell_type": "code",
   "execution_count": 16,
   "metadata": {},
   "outputs": [],
   "source": [
    "data_ham  = data[data['spam'] == 0].copy()\n",
    "data_spam = data[data['spam'] == 1].copy()\n"
   ]
  },
  {
   "cell_type": "markdown",
   "metadata": {},
   "source": [
    "## wordclouds"
   ]
  },
  {
   "cell_type": "code",
   "execution_count": 17,
   "metadata": {},
   "outputs": [],
   "source": [
    "def show_wordcloud(data_spam_or_ham, title):\n",
    "    text = ' '.join(data_spam_or_ham['text'].astype(str).tolist())\n",
    "    stopwords = set(wordcloud.STOPWORDS)\n",
    "    \n",
    "    fig_wordcloud = wordcloud.WordCloud(stopwords=stopwords,background_color='lightgrey',\n",
    "                    colormap='viridis', width=800, height=600).generate(text)\n",
    "    \n",
    "    plt.figure(figsize=(10,7), frameon=True)\n",
    "    plt.imshow(fig_wordcloud)  \n",
    "    plt.axis('off')\n",
    "    plt.title(title, fontsize=20 )\n",
    "    plt.show()"
   ]
  },
  {
   "cell_type": "code",
   "execution_count": 18,
   "metadata": {},
   "outputs": [
    {
     "data": {
      "image/png": "[encoded data removed]",
      "text/plain": [
       "<Figure size 720x504 with 1 Axes>"
      ]
     },
     "metadata": {
      "needs_background": "light"
     },
     "output_type": "display_data"
    }
   ],
   "source": [
    "show_wordcloud(data_ham, \"Ham messages\")"
   ]
  },
  {
   "cell_type": "code",
   "execution_count": 19,
   "metadata": {},
   "outputs": [
    {
     "data": {
      "image/png": "[encoded data removed]",
      "text/plain": [
       "<Figure size 720x504 with 1 Axes>"
      ]
     },
     "metadata": {
      "needs_background": "light"
     },
     "output_type": "display_data"
    }
   ],
   "source": [
    "show_wordcloud(data_spam, \"Spam messages\")"
   ]
  },
  {
   "cell_type": "markdown",
   "metadata": {},
   "source": [
    "## Part 2: Preprocessing\n",
    "\n",
    "Basic preprocessing for common NLP tasks includes converting text to lowercase and removing punctuation and stopwords.\n",
    "Further steps, especially for text classification tasks, are:\n",
    "\n",
    "* Tokenization\n",
    "* Vectorization and\n",
    "* TF-IDF weighting\n",
    "Lets apply these approaches on the SMS messages.\n",
    "\n",
    "\n",
    "## 2.1 Remove Punctuation and Stopwords\n",
    "\n",
    "Punctuation\n",
    "We use the punctuation list from the string library:"
   ]
  },
  {
   "cell_type": "code",
   "execution_count": 20,
   "metadata": {},
   "outputs": [
    {
     "data": {
      "text/plain": [
       "'!\"#$%&\\'()*+,-./:;<=>?@[\\\\]^_`{|}~'"
      ]
     },
     "execution_count": 20,
     "metadata": {},
     "output_type": "execute_result"
    }
   ],
   "source": [
    "import string\n",
    "string.punctuation"
   ]
  },
  {
   "cell_type": "markdown",
   "metadata": {},
   "source": [
    "## Stopwords\n",
    "from sklearn documentation: https://scikit-learn.org/stable/modules/feature_extraction.html#stop-words\n",
    "Stop words are words like “and”, “the”, “him”, which are presumed to be uninformative in representing the content of a text,\n",
    "and which may be removed to avoid them being construed as signal for prediction.\n",
    "Sometimes, however, similar words are useful for prediction, such as in classifying writing style or personality.\n",
    "\n",
    "Due to the known issues in the ’english’ stop word list of sklearn, we use the stopwords from NLTK:\n",
    "\n",
    "NLTK"
   ]
  },
  {
   "cell_type": "code",
   "execution_count": 21,
   "metadata": {},
   "outputs": [
    {
     "data": {
      "text/plain": [
       "['here', 'there', 'when', 'where', 'why', 'how', 'all', 'any', 'both', 'each']"
      ]
     },
     "execution_count": 21,
     "metadata": {},
     "output_type": "execute_result"
    }
   ],
   "source": [
    "from nltk.corpus import stopwords\n",
    "stopwords.words(\"english\")[100:110]"
   ]
  },
  {
   "cell_type": "markdown",
   "metadata": {},
   "source": [
    "With the above lists for punctuation characters and stop words, we define a function to remove these from the text.\n",
    "This function also converts all text to lowercase"
   ]
  },
  {
   "cell_type": "code",
   "execution_count": 22,
   "metadata": {},
   "outputs": [],
   "source": [
    "def remove_punctuation_and_stopwords(sms):\n",
    "    \n",
    "    sms_no_punctuation = [ch for ch in sms if ch not in string.punctuation]\n",
    "    sms_no_punctuation = \"\".join(sms_no_punctuation).split()\n",
    "    \n",
    "    sms_no_punctuation_no_stopwords = \\\n",
    "        [word.lower() for word in sms_no_punctuation if word.lower() not in stopwords.words(\"english\")]\n",
    "        \n",
    "    return sms_no_punctuation_no_stopwords"
   ]
  },
  {
   "cell_type": "code",
   "execution_count": 23,
   "metadata": {},
   "outputs": [
    {
     "data": {
      "text/plain": [
       "0    [go, jurong, point, crazy, available, bugis, n...\n",
       "1                       [ok, lar, joking, wif, u, oni]\n",
       "2    [free, entry, 2, wkly, comp, win, fa, cup, fin...\n",
       "3        [u, dun, say, early, hor, u, c, already, say]\n",
       "4    [nah, dont, think, goes, usf, lives, around, t...\n",
       "Name: text, dtype: object"
      ]
     },
     "execution_count": 23,
     "metadata": {},
     "output_type": "execute_result"
    }
   ],
   "source": [
    "data['text'].apply(remove_punctuation_and_stopwords).head()"
   ]
  },
  {
   "cell_type": "markdown",
   "metadata": {},
   "source": [
    "## 2.2 Top 30 words in ham and spam messages\n",
    "\n",
    "\n",
    "\n",
    "## 2.2.1 Collections: Counter¶"
   ]
  },
  {
   "cell_type": "code",
   "execution_count": 24,
   "metadata": {},
   "outputs": [],
   "source": [
    "from collections import Counter"
   ]
  },
  {
   "cell_type": "code",
   "execution_count": 25,
   "metadata": {},
   "outputs": [],
   "source": [
    "data_ham.loc[:, 'text'] = data_ham['text'].apply(remove_punctuation_and_stopwords)\n",
    "words_data_ham = data_ham['text'].tolist()\n",
    "\n",
    "data_spam.loc[:, 'text'] = data_spam['text'].apply(remove_punctuation_and_stopwords)\n",
    "words_data_spam = data_spam['text'].tolist()"
   ]
  },
  {
   "cell_type": "code",
   "execution_count": 25,
   "metadata": {},
   "outputs": [],
   "source": [
    "list_ham_words = []\n",
    "for sublist in words_data_ham:\n",
    "    for item in sublist:\n",
    "        list_ham_words.append(item)"
   ]
  },
  {
   "cell_type": "code",
   "execution_count": 26,
   "metadata": {},
   "outputs": [],
   "source": [
    "list_spam_words = []\n",
    "for sublist in words_data_spam:\n",
    "    for item in sublist:\n",
    "        list_spam_words.append(item)"
   ]
  },
  {
   "cell_type": "code",
   "execution_count": 27,
   "metadata": {},
   "outputs": [],
   "source": [
    "c_ham  = Counter(list_ham_words)\n",
    "c_spam = Counter(list_spam_words)\n",
    "df_hamwords_top30  = pd.DataFrame(c_ham.most_common(30),  columns=['word', 'count'])\n",
    "df_spamwords_top30 = pd.DataFrame(c_spam.most_common(30), columns=['word', 'count'])"
   ]
  },
  {
   "cell_type": "code",
   "execution_count": 28,
   "metadata": {},
   "outputs": [
    {
     "data": {
      "text/plain": [
       "(array([ 0,  1,  2,  3,  4,  5,  6,  7,  8,  9, 10, 11, 12, 13, 14, 15, 16,\n",
       "        17, 18, 19, 20, 21, 22, 23, 24, 25, 26, 27, 28, 29]),\n",
       " <a list of 30 Text xticklabel objects>)"
      ]
     },
     "execution_count": 28,
     "metadata": {},
     "output_type": "execute_result"
    },
    {
     "data": {
      "image/png": "[encoded data removed]",
      "text/plain": [
       "<Figure size 720x432 with 1 Axes>"
      ]
     },
     "metadata": {
      "needs_background": "light"
     },
     "output_type": "display_data"
    }
   ],
   "source": [
    "fig, ax = plt.subplots(figsize=(10, 6))\n",
    "sns.barplot(x='word', y='count', \n",
    "            data=df_hamwords_top30, ax=ax)\n",
    "plt.title(\"Top 30 Ham words\")\n",
    "plt.xticks(rotation='vertical')"
   ]
  },
  {
   "cell_type": "code",
   "execution_count": 29,
   "metadata": {},
   "outputs": [
    {
     "data": {
      "text/plain": [
       "(array([ 0,  1,  2,  3,  4,  5,  6,  7,  8,  9, 10, 11, 12, 13, 14, 15, 16,\n",
       "        17, 18, 19, 20, 21, 22, 23, 24, 25, 26, 27, 28, 29]),\n",
       " <a list of 30 Text xticklabel objects>)"
      ]
     },
     "execution_count": 29,
     "metadata": {},
     "output_type": "execute_result"
    },
    {
     "data": {
      "image/png": "[encoded data removed]",
      "text/plain": [
       "<Figure size 720x432 with 1 Axes>"
      ]
     },
     "metadata": {
      "needs_background": "light"
     },
     "output_type": "display_data"
    }
   ],
   "source": [
    "fig, ax = plt.subplots(figsize=(10, 6))\n",
    "sns.barplot(x='word', y='count', \n",
    "            data=df_spamwords_top30, ax=ax)\n",
    "plt.title(\"Top 30 Spam words\")\n",
    "plt.xticks(rotation='vertical')"
   ]
  },
  {
   "cell_type": "markdown",
   "metadata": {},
   "source": [
    "## 2.2.2 NLTK: FreqDist"
   ]
  },
  {
   "cell_type": "code",
   "execution_count": 30,
   "metadata": {},
   "outputs": [],
   "source": [
    "fdist_ham  = nltk.FreqDist(list_ham_words)\n",
    "fdist_spam = nltk.FreqDist(list_spam_words)"
   ]
  },
  {
   "cell_type": "code",
   "execution_count": 31,
   "metadata": {},
   "outputs": [],
   "source": [
    "df_hamwords_top30_nltk  = pd.DataFrame(fdist_ham.most_common(30),  columns=['word', 'count'])\n",
    "df_spamwords_top30_nltk = pd.DataFrame(fdist_spam.most_common(30), columns=['word', 'count'])"
   ]
  },
  {
   "cell_type": "code",
   "execution_count": 32,
   "metadata": {},
   "outputs": [
    {
     "data": {
      "text/plain": [
       "(array([ 0,  1,  2,  3,  4,  5,  6,  7,  8,  9, 10, 11, 12, 13, 14, 15, 16,\n",
       "        17, 18, 19, 20, 21, 22, 23, 24, 25, 26, 27, 28, 29]),\n",
       " <a list of 30 Text xticklabel objects>)"
      ]
     },
     "execution_count": 32,
     "metadata": {},
     "output_type": "execute_result"
    },
    {
     "data": {
      "image/png": "[encoded data removed]",
      "text/plain": [
       "<Figure size 720x432 with 1 Axes>"
      ]
     },
     "metadata": {
      "needs_background": "light"
     },
     "output_type": "display_data"
    }
   ],
   "source": [
    "fig, ax = plt.subplots(figsize=(10, 6))\n",
    "sns.barplot(x='word', y='count', \n",
    "            data=df_hamwords_top30_nltk, ax=ax)\n",
    "plt.title(\"Top 30 Ham words\")\n",
    "plt.xticks(rotation='vertical')"
   ]
  },
  {
   "cell_type": "code",
   "execution_count": 33,
   "metadata": {},
   "outputs": [
    {
     "data": {
      "text/plain": [
       "(array([ 0,  1,  2,  3,  4,  5,  6,  7,  8,  9, 10, 11, 12, 13, 14, 15, 16,\n",
       "        17, 18, 19, 20, 21, 22, 23, 24, 25, 26, 27, 28, 29]),\n",
       " <a list of 30 Text xticklabel objects>)"
      ]
     },
     "execution_count": 33,
     "metadata": {},
     "output_type": "execute_result"
    },
    {
     "data": {
      "image/png": "[encoded data removed]",
      "text/plain": [
       "<Figure size 720x432 with 1 Axes>"
      ]
     },
     "metadata": {
      "needs_background": "light"
     },
     "output_type": "display_data"
    }
   ],
   "source": [
    "fig, ax = plt.subplots(figsize=(10, 6))\n",
    "sns.barplot(x='word', y='count', \n",
    "            data=df_spamwords_top30_nltk, ax=ax)\n",
    "plt.title(\"Top 30 Spam words\")\n",
    "plt.xticks(rotation='vertical')"
   ]
  },
  {
   "cell_type": "markdown",
   "metadata": {},
   "source": [
    "## 2.2 Bag of words with CountVectorizer\n",
    "\n",
    "\n",
    "The Bag of Words representation\n",
    "https://scikit-learn.org/stable/modules/feature_extraction.html#text-feature-extraction\n",
    "\n",
    "Text Analysis is a major application field for machine learning algorithms. However the raw data, a sequence of symbols cannot be fed directly to the algorithms themselves as most of them expect numerical feature vectors with a fixed size rather than the raw text documents with variable length.\n",
    "In order to address this, scikit-learn provides utilities for the most common ways to extract numerical features from text content, namely:\n",
    "\n",
    "* Tokenization\n",
    "\n",
    "  tokenizing strings and giving an integer id for each possible token, for instance by using white-spaces and punctuation as   token separators.\n",
    "* Vectorization\n",
    "\n",
    "  counting the occurrences of tokens in each document.\n",
    "* TF-IDF\n",
    "\n",
    "  normalizing and weighting with diminishing importance tokens that occur in the majority of samples / documents.\n",
    "\n",
    "* Bag of Words\n",
    "\n",
    "  In this scheme, features and samples are defined as follows: each individual token occurrence frequency (normalized or not) is treated as a feature.\n",
    "  \n",
    "The vector of all the token frequencies for a given document is considered a multivariate sample.\n",
    "A corpus of documents can thus be represented by a matrix with one row per document and one column per token (e.g. word) occurring in the corpus.\n",
    "We call vectorization the general process of turning a collection of text documents into numerical feature vectors.\n",
    "This specific strategy (tokenization, counting and normalization) is called the Bag of Words or “Bag of n-grams” representation.\n",
    "Documents are described by word occurrences while completely ignoring the relative position information of the words in the document.\n",
    "\n",
    "For futher details and example implementations see:\n",
    "https://en.wikipedia.org/wiki/Bag-of-words_model\n",
    "https://en.wikipedia.org/wiki/Document-term_matrix\n",
    "\n",
    "An Introduction to Bag-of-Words in NLP\n",
    "https://medium.com/greyatom/an-introduction-to-bag-of-words-in-nlp-ac967d43b428\n",
    "\n",
    "In this kernel we apply the CountVectorizer from sklearn as BOW model.\n",
    "https://scikit-learn.org/stable/modules/generated/sklearn.feature_extraction.text.CountVectorizer.html\n",
    "As tokenizer we use the remove_punctuation_and_stopwords function defined above"
   ]
  },
  {
   "cell_type": "code",
   "execution_count": 34,
   "metadata": {},
   "outputs": [],
   "source": [
    "from sklearn.feature_extraction.text import CountVectorizer\n",
    "bow_transformer = CountVectorizer(analyzer = remove_punctuation_and_stopwords).fit(data['text'])"
   ]
  },
  {
   "cell_type": "code",
   "execution_count": 35,
   "metadata": {},
   "outputs": [
    {
     "name": "stdout",
     "output_type": "stream",
     "text": [
      "9431\n"
     ]
    }
   ],
   "source": [
    "print(len(bow_transformer.vocabulary_))"
   ]
  },
  {
   "cell_type": "markdown",
   "metadata": {},
   "source": [
    "In all sms messages bow_transformer counted 9431 different words."
   ]
  },
  {
   "cell_type": "markdown",
   "metadata": {},
   "source": [
    "## Examples for spam and ham messages\n",
    "\n",
    "Lets look at some vectorization examples for spam and ham messages"
   ]
  },
  {
   "cell_type": "code",
   "execution_count": 36,
   "metadata": {},
   "outputs": [
    {
     "name": "stdout",
     "output_type": "stream",
     "text": [
      "WINNER!! As a valued network customer you have been selected to receivea å£900 prize reward! To claim call 09061701461. Claim code KL341. Valid 12 hours only.\n",
      "  (0, 218)\t1\n",
      "  (0, 323)\t1\n",
      "  (0, 1906)\t1\n",
      "  (0, 2184)\t2\n",
      "  (0, 2245)\t1\n",
      "  (0, 2531)\t1\n",
      "  (0, 4194)\t1\n",
      "  (0, 4759)\t1\n",
      "  (0, 5707)\t1\n",
      "  (0, 6538)\t1\n",
      "  (0, 6775)\t1\n",
      "  (0, 6946)\t1\n",
      "  (0, 7209)\t1\n",
      "  (0, 8694)\t1\n",
      "  (0, 8698)\t1\n",
      "  (0, 9028)\t1\n",
      "  (0, 9418)\t1\n"
     ]
    }
   ],
   "source": [
    "sample_spam = data['text'][8]\n",
    "bow_sample_spam = bow_transformer.transform([sample_spam])\n",
    "print(sample_spam)\n",
    "print(bow_sample_spam)"
   ]
  },
  {
   "cell_type": "code",
   "execution_count": 37,
   "metadata": {},
   "outputs": [
    {
     "name": "stdout",
     "output_type": "stream",
     "text": [
      "09061701461\n",
      "12\n",
      "call\n",
      "claim\n",
      "code\n",
      "customer\n",
      "hours\n",
      "kl341\n",
      "network\n",
      "prize\n",
      "receivea\n",
      "reward\n",
      "selected\n",
      "valid\n",
      "valued\n",
      "winner\n",
      "å£900\n"
     ]
    }
   ],
   "source": [
    "rows, cols = bow_sample_spam.nonzero()\n",
    "for col in cols: \n",
    "    print(bow_transformer.get_feature_names()[col])"
   ]
  },
  {
   "cell_type": "code",
   "execution_count": 38,
   "metadata": {},
   "outputs": [
    {
     "name": "stdout",
     "output_type": "stream",
     "text": [
      "(1, 9431)\n"
     ]
    }
   ],
   "source": [
    "print(np.shape(bow_sample_spam))"
   ]
  },
  {
   "cell_type": "code",
   "execution_count": 39,
   "metadata": {},
   "outputs": [
    {
     "name": "stdout",
     "output_type": "stream",
     "text": [
      "Nah I don't think he goes to usf, he lives around here though\n",
      "  (0, 1279)\t1\n",
      "  (0, 2882)\t1\n",
      "  (0, 3762)\t1\n",
      "  (0, 5004)\t1\n",
      "  (0, 5631)\t1\n",
      "  (0, 8224)\t1\n",
      "  (0, 8243)\t1\n",
      "  (0, 8664)\t1\n"
     ]
    }
   ],
   "source": [
    "sample_ham = data['text'][4]\n",
    "bow_sample_ham = bow_transformer.transform([sample_ham])\n",
    "print(sample_ham)\n",
    "print(bow_sample_ham)"
   ]
  },
  {
   "cell_type": "code",
   "execution_count": 40,
   "metadata": {},
   "outputs": [
    {
     "name": "stdout",
     "output_type": "stream",
     "text": [
      "around\n",
      "dont\n",
      "goes\n",
      "lives\n",
      "nah\n",
      "think\n",
      "though\n",
      "usf\n"
     ]
    }
   ],
   "source": [
    "rows, cols = bow_sample_ham.nonzero()\n",
    "for col in cols: \n",
    "    print(bow_transformer.get_feature_names()[col])"
   ]
  },
  {
   "cell_type": "markdown",
   "metadata": {},
   "source": [
    "## Applying bow_transformer on all messages"
   ]
  },
  {
   "cell_type": "code",
   "execution_count": 41,
   "metadata": {},
   "outputs": [],
   "source": [
    "bow_data = bow_transformer.transform(data['text'])"
   ]
  },
  {
   "cell_type": "code",
   "execution_count": 42,
   "metadata": {},
   "outputs": [
    {
     "data": {
      "text/plain": [
       "(5572, 9431)"
      ]
     },
     "execution_count": 42,
     "metadata": {},
     "output_type": "execute_result"
    }
   ],
   "source": [
    "bow_data.shape"
   ]
  },
  {
   "cell_type": "code",
   "execution_count": 43,
   "metadata": {},
   "outputs": [
    {
     "data": {
      "text/plain": [
       "49772"
      ]
     },
     "execution_count": 43,
     "metadata": {},
     "output_type": "execute_result"
    }
   ],
   "source": [
    "bow_data.nnz"
   ]
  },
  {
   "cell_type": "code",
   "execution_count": null,
   "metadata": {},
   "outputs": [],
   "source": []
  },
  {
   "cell_type": "markdown",
   "metadata": {},
   "source": [
    "## Sparsity: percentage of none zero entries\n",
    "\n",
    "https://scikit-learn.org/stable/modules/feature_extraction.html#text-feature-extraction\n",
    "\n",
    "\n",
    "## Sparsity\n",
    "As most documents will typically use a very small subset of the words used in the corpus,\n",
    "the resulting matrix will have many feature values that are zeros (typically more than 99% of them).\n",
    "For instance a collection of 10,000 short text documents (such as emails) will use a vocabulary\n",
    "with a size in the order of 100,000 unique words in total while each document will use 100 to\n",
    "1000 unique words individually.\n",
    "In order to be able to store such a matrix in memory but also to speed up algebraic operations matrix / vector,\n",
    "implementations will typically use a sparse representation such as available in the scipy.sparse package."
   ]
  },
  {
   "cell_type": "code",
   "execution_count": 44,
   "metadata": {},
   "outputs": [
    {
     "data": {
      "text/plain": [
       "<5572x9431 sparse matrix of type '<class 'numpy.int64'>'\n",
       "\twith 49772 stored elements in Compressed Sparse Row format>"
      ]
     },
     "execution_count": 44,
     "metadata": {},
     "output_type": "execute_result"
    }
   ],
   "source": [
    "bow_data"
   ]
  },
  {
   "cell_type": "code",
   "execution_count": 45,
   "metadata": {},
   "outputs": [
    {
     "data": {
      "text/plain": [
       "5572"
      ]
     },
     "execution_count": 45,
     "metadata": {},
     "output_type": "execute_result"
    }
   ],
   "source": [
    "bow_data.shape[0]"
   ]
  },
  {
   "cell_type": "code",
   "execution_count": 46,
   "metadata": {},
   "outputs": [
    {
     "data": {
      "text/plain": [
       "9431"
      ]
     },
     "execution_count": 46,
     "metadata": {},
     "output_type": "execute_result"
    }
   ],
   "source": [
    "bow_data.shape[1]"
   ]
  },
  {
   "cell_type": "code",
   "execution_count": 47,
   "metadata": {},
   "outputs": [
    {
     "data": {
      "text/plain": [
       "49772"
      ]
     },
     "execution_count": 47,
     "metadata": {},
     "output_type": "execute_result"
    }
   ],
   "source": [
    "bow_data.nnz"
   ]
  },
  {
   "cell_type": "code",
   "execution_count": 48,
   "metadata": {},
   "outputs": [
    {
     "name": "stdout",
     "output_type": "stream",
     "text": [
      "0.09471444959776236\n"
     ]
    }
   ],
   "source": [
    "print( bow_data.nnz / (bow_data.shape[0] * bow_data.shape[1]) *100 )"
   ]
  },
  {
   "cell_type": "markdown",
   "metadata": {},
   "source": [
    "Around 10% of the matrix are non zeros (=ones)"
   ]
  },
  {
   "cell_type": "markdown",
   "metadata": {},
   "source": [
    "## 2.3 Term frequency inverse document frequency - TFIDF\n",
    "\n",
    "\n",
    "## From occurrences to frequencies\n",
    "https://scikit-learn.org/stable/tutorial/text_analytics/working_with_text_data.html#from-occurrences-to-frequencies\n",
    "\n",
    "Occurrence count is a good start but there is an issue: longer documents will have higher average count values\n",
    "than shorter documents, even though they might talk about the same topics.\n",
    "To avoid these potential discrepancies it suffices to divide the number of occurrences of each word in a document\n",
    "by the total number of words in the document: these new features are called tf for Term Frequencies.\n",
    "Another refinement on top of tf is to downscale weights for words that occur in many documents in the corpus and are\n",
    "therefore less informative than those that occur only in a smaller portion of the corpus.\n",
    "This downscaling is called tf–idf for “Term Frequency times Inverse Document Frequency”.\n",
    "\n",
    "For futher details and example implementations see:\n",
    "https://en.wikipedia.org/wiki/Tf%E2%80%93idf\n",
    "\n",
    "https://www.kaggle.com/adamschroeder/countvectorizer-tfidfvectorizer-predict-comments\n",
    "\n",
    "TfidfTransformer from sklearn\n",
    "Both tf and tf–idf can be computed as follows using TfidfTransformer:\n",
    "https://scikit-learn.org/stable/modules/generated/sklearn.feature_extraction.text.TfidfTransformer.html"
   ]
  },
  {
   "cell_type": "code",
   "execution_count": 49,
   "metadata": {},
   "outputs": [],
   "source": [
    "from sklearn.feature_extraction.text import TfidfTransformer\n",
    "\n",
    "tfidf_transformer = TfidfTransformer().fit(bow_data)"
   ]
  },
  {
   "cell_type": "code",
   "execution_count": 50,
   "metadata": {
    "scrolled": true
   },
   "outputs": [
    {
     "name": "stdout",
     "output_type": "stream",
     "text": [
      "  (0, 8664)\t0.4000611457714059\n",
      "  (0, 8243)\t0.35462891367407595\n",
      "  (0, 8224)\t0.2665748147939407\n",
      "  (0, 5631)\t0.40493594386802356\n",
      "  (0, 5004)\t0.44910913790937335\n",
      "  (0, 3762)\t0.35674330934716636\n",
      "  (0, 2882)\t0.23016324066220836\n",
      "  (0, 1279)\t0.31179198007951625\n"
     ]
    }
   ],
   "source": [
    "tfidf_sample_ham = tfidf_transformer.transform(bow_sample_ham)\n",
    "print(tfidf_sample_ham)"
   ]
  },
  {
   "cell_type": "code",
   "execution_count": 51,
   "metadata": {},
   "outputs": [
    {
     "name": "stdout",
     "output_type": "stream",
     "text": [
      "  (0, 9418)\t0.2604683359422661\n",
      "  (0, 9028)\t0.23445094204464131\n",
      "  (0, 8698)\t0.24115248419490207\n",
      "  (0, 8694)\t0.22254833340975305\n",
      "  (0, 7209)\t0.2148462495005997\n",
      "  (0, 6946)\t0.2564029044370425\n",
      "  (0, 6775)\t0.2943229069695555\n",
      "  (0, 6538)\t0.178899142428953\n",
      "  (0, 5707)\t0.2148462495005997\n",
      "  (0, 4759)\t0.2943229069695555\n",
      "  (0, 4194)\t0.22555164191980467\n",
      "  (0, 2531)\t0.1915015107445745\n",
      "  (0, 2245)\t0.21371446699888028\n",
      "  (0, 2184)\t0.3406301232141347\n",
      "  (0, 1906)\t0.1153380143353214\n",
      "  (0, 323)\t0.2387711073538672\n",
      "  (0, 218)\t0.2943229069695555\n"
     ]
    }
   ],
   "source": [
    "tfidf_sample_spam = tfidf_transformer.transform(bow_sample_spam)\n",
    "print(tfidf_sample_spam)"
   ]
  },
  {
   "cell_type": "code",
   "execution_count": 52,
   "metadata": {},
   "outputs": [],
   "source": [
    "data_tfidf = tfidf_transformer.transform(bow_data)\n"
   ]
  },
  {
   "cell_type": "code",
   "execution_count": 53,
   "metadata": {},
   "outputs": [
    {
     "data": {
      "text/plain": [
       "<5572x9431 sparse matrix of type '<class 'numpy.float64'>'\n",
       "\twith 49772 stored elements in Compressed Sparse Row format>"
      ]
     },
     "execution_count": 53,
     "metadata": {},
     "output_type": "execute_result"
    }
   ],
   "source": [
    "data_tfidf"
   ]
  },
  {
   "cell_type": "code",
   "execution_count": 54,
   "metadata": {},
   "outputs": [
    {
     "data": {
      "text/plain": [
       "(5572, 9431)"
      ]
     },
     "execution_count": 54,
     "metadata": {},
     "output_type": "execute_result"
    }
   ],
   "source": [
    "np.shape(data_tfidf)"
   ]
  },
  {
   "cell_type": "markdown",
   "metadata": {},
   "source": [
    "## train test split\n",
    "\n",
    "for TFIDF matrix only"
   ]
  },
  {
   "cell_type": "code",
   "execution_count": 55,
   "metadata": {},
   "outputs": [],
   "source": [
    "from sklearn.model_selection import train_test_split\n",
    "\n",
    "data_tfidf_train, data_tfidf_test, label_train, label_test = \\\n",
    "    train_test_split(data_tfidf, data[\"spam\"], test_size=0.3, random_state=5)"
   ]
  },
  {
   "cell_type": "code",
   "execution_count": 56,
   "metadata": {},
   "outputs": [
    {
     "data": {
      "text/plain": [
       "<3900x9431 sparse matrix of type '<class 'numpy.float64'>'\n",
       "\twith 35125 stored elements in Compressed Sparse Row format>"
      ]
     },
     "execution_count": 56,
     "metadata": {},
     "output_type": "execute_result"
    }
   ],
   "source": [
    "data_tfidf_train"
   ]
  },
  {
   "cell_type": "code",
   "execution_count": 57,
   "metadata": {},
   "outputs": [
    {
     "data": {
      "text/plain": [
       "<1672x9431 sparse matrix of type '<class 'numpy.float64'>'\n",
       "\twith 14647 stored elements in Compressed Sparse Row format>"
      ]
     },
     "execution_count": 57,
     "metadata": {},
     "output_type": "execute_result"
    }
   ],
   "source": [
    "data_tfidf_test"
   ]
  },
  {
   "cell_type": "markdown",
   "metadata": {},
   "source": [
    "for TFIDF matrix and feature \"length\""
   ]
  },
  {
   "cell_type": "code",
   "execution_count": 58,
   "metadata": {},
   "outputs": [],
   "source": [
    "from scipy.sparse import  hstack\n",
    "X2 = hstack((data_tfidf ,np.array(data['length'])[:,None])).A"
   ]
  },
  {
   "cell_type": "code",
   "execution_count": 59,
   "metadata": {},
   "outputs": [],
   "source": [
    "X2_train, X2_test, y2_train, y2_test = \\\n",
    "    train_test_split(X2, data[\"spam\"], test_size=0.3, random_state=5)"
   ]
  },
  {
   "cell_type": "markdown",
   "metadata": {},
   "source": [
    "## Part 3: Classifiers"
   ]
  },
  {
   "cell_type": "markdown",
   "metadata": {},
   "source": [
    "## 3.1 First test for Classification\n",
    "\n",
    "\n",
    "## Naive Bayes Classifier\n",
    "\n",
    "sparse matrix to matrix"
   ]
  },
  {
   "cell_type": "code",
   "execution_count": 60,
   "metadata": {},
   "outputs": [],
   "source": [
    "data_tfidf_train = data_tfidf_train.A\n",
    "data_tfidf_test = data_tfidf_test.A"
   ]
  },
  {
   "cell_type": "markdown",
   "metadata": {},
   "source": [
    "MNB Model using only TFIDF matrix"
   ]
  },
  {
   "cell_type": "code",
   "execution_count": 61,
   "metadata": {},
   "outputs": [
    {
     "name": "stdout",
     "output_type": "stream",
     "text": [
      "0.965311004784689\n"
     ]
    }
   ],
   "source": [
    "spam_detect_model = MultinomialNB().fit(data_tfidf_train, label_train)\n",
    "pred_test_MNB = spam_detect_model.predict(data_tfidf_test)\n",
    "acc_MNB = accuracy_score(label_test, pred_test_MNB)\n",
    "print(acc_MNB)"
   ]
  },
  {
   "cell_type": "markdown",
   "metadata": {},
   "source": [
    "Our first classifier seems to work well, it has an accuracy of 96.5 % for the test set."
   ]
  },
  {
   "cell_type": "code",
   "execution_count": 62,
   "metadata": {},
   "outputs": [],
   "source": [
    "scaler = MinMaxScaler()\n",
    "data_tfidf_train_sc = scaler.fit_transform(data_tfidf_train)\n",
    "data_tfidf_test_sc  = scaler.transform(data_tfidf_test)"
   ]
  },
  {
   "cell_type": "markdown",
   "metadata": {},
   "source": [
    "MNB Model using only TFIDF matrix, scaled"
   ]
  },
  {
   "cell_type": "code",
   "execution_count": 63,
   "metadata": {},
   "outputs": [
    {
     "name": "stdout",
     "output_type": "stream",
     "text": [
      "0.9826555023923444\n"
     ]
    }
   ],
   "source": [
    "spam_detect_model_minmax = MultinomialNB().fit(data_tfidf_train_sc, label_train)\n",
    "pred_test_MNB = spam_detect_model_minmax.predict(data_tfidf_test_sc)\n",
    "acc_MNB = accuracy_score(label_test, pred_test_MNB)\n",
    "print(acc_MNB)"
   ]
  },
  {
   "cell_type": "markdown",
   "metadata": {},
   "source": [
    "Applying the min max scaler on the TFIDF matrix improves the performance of the MNB classifier:\n",
    "It now has an accuracy of 98.2 % for the test set."
   ]
  },
  {
   "cell_type": "markdown",
   "metadata": {},
   "source": []
  },
  {
   "cell_type": "markdown",
   "metadata": {},
   "source": [
    "MNB model with TFIDF matrix and feature \"length\", unscaled"
   ]
  },
  {
   "cell_type": "code",
   "execution_count": 64,
   "metadata": {},
   "outputs": [
    {
     "name": "stdout",
     "output_type": "stream",
     "text": [
      "0.8761961722488039\n"
     ]
    }
   ],
   "source": [
    "spam_detect_model_2 = MultinomialNB().fit(X2_train, y2_train)\n",
    "pred_test_MNB_2 = spam_detect_model_2.predict(X2_test)\n",
    "acc_MNB_2 = accuracy_score(y2_test, pred_test_MNB_2)\n",
    "print(acc_MNB_2)"
   ]
  },
  {
   "cell_type": "markdown",
   "metadata": {},
   "source": [
    "Fitting MNB with the unscaled features TFIDF + length of message decreases performance.\n",
    "Lets now check the fit with the scaled features."
   ]
  },
  {
   "cell_type": "code",
   "execution_count": 65,
   "metadata": {},
   "outputs": [],
   "source": [
    "X2_tfidf_train = X2_train[:,0:9431]\n",
    "X2_tfidf_test  = X2_test[:,0:9431]\n",
    "X2_length_train = X2_train[:,9431]\n",
    "X2_length_test  = X2_test[:,9431]"
   ]
  },
  {
   "cell_type": "code",
   "execution_count": 66,
   "metadata": {},
   "outputs": [],
   "source": [
    "scaler = MinMaxScaler()\n",
    "X2_tfidf_train = scaler.fit_transform(X2_tfidf_train)\n",
    "X2_tfidf_test  = scaler.transform(X2_tfidf_test)"
   ]
  },
  {
   "cell_type": "code",
   "execution_count": 67,
   "metadata": {},
   "outputs": [],
   "source": [
    "scaler = MinMaxScaler()\n",
    "X2_length_train = scaler.fit_transform(X2_length_train.reshape(-1, 1))\n",
    "X2_length_test  = scaler.transform(X2_length_test.reshape(-1, 1))"
   ]
  },
  {
   "cell_type": "code",
   "execution_count": 68,
   "metadata": {},
   "outputs": [],
   "source": [
    "X2_train = np.hstack((X2_tfidf_train, X2_length_train))\n",
    "X2_test  = np.hstack((X2_tfidf_test,  X2_length_test))"
   ]
  },
  {
   "cell_type": "markdown",
   "metadata": {},
   "source": [
    "MNB model with TFIDF matrix and feature \"length\", scaled\n",
    "\n"
   ]
  },
  {
   "cell_type": "code",
   "execution_count": 69,
   "metadata": {},
   "outputs": [
    {
     "name": "stdout",
     "output_type": "stream",
     "text": [
      "0.9826555023923444\n"
     ]
    }
   ],
   "source": [
    "spam_detect_model_3 = MultinomialNB().fit(X2_train, y2_train)\n",
    "pred_test_MNB_3 = spam_detect_model_3.predict(X2_test)\n",
    "acc_MNB_3 = accuracy_score(y2_test, pred_test_MNB_3)\n",
    "print(acc_MNB_3)"
   ]
  },
  {
   "cell_type": "markdown",
   "metadata": {},
   "source": [
    "## KNN"
   ]
  },
  {
   "cell_type": "code",
   "execution_count": 70,
   "metadata": {},
   "outputs": [
    {
     "name": "stdout",
     "output_type": "stream",
     "text": [
      "Fitting 5 folds for each of 3 candidates, totalling 15 fits\n"
     ]
    },
    {
     "name": "stderr",
     "output_type": "stream",
     "text": [
      "[Parallel(n_jobs=-1)]: Using backend LokyBackend with 4 concurrent workers.\n",
      "[Parallel(n_jobs=-1)]: Done  15 out of  15 | elapsed:  5.5min finished\n"
     ]
    },
    {
     "data": {
      "text/plain": [
       "GridSearchCV(cv=5, error_score='raise-deprecating',\n",
       "             estimator=KNeighborsClassifier(algorithm='auto', leaf_size=30,\n",
       "                                            metric='minkowski',\n",
       "                                            metric_params=None, n_jobs=None,\n",
       "                                            n_neighbors=5, p=2,\n",
       "                                            weights='uniform'),\n",
       "             iid='warn', n_jobs=-1, param_grid={'n_neighbors': (10, 15, 17)},\n",
       "             pre_dispatch='2*n_jobs', refit=True, return_train_score=False,\n",
       "             scoring=None, verbose=1)"
      ]
     },
     "execution_count": 70,
     "metadata": {},
     "output_type": "execute_result"
    }
   ],
   "source": [
    "parameters_KNN = {'n_neighbors': (10,15,17), }\n",
    "\n",
    "grid_KNN = GridSearchCV( KNeighborsClassifier(), parameters_KNN, cv=5,\n",
    "                        n_jobs=-1, verbose=1)\n",
    "\n",
    "grid_KNN.fit(data_tfidf_train, label_train)"
   ]
  },
  {
   "cell_type": "code",
   "execution_count": 71,
   "metadata": {},
   "outputs": [
    {
     "name": "stdout",
     "output_type": "stream",
     "text": [
      "{'n_neighbors': 15}\n",
      "0.9364102564102564\n"
     ]
    }
   ],
   "source": [
    "print(grid_KNN.best_params_)\n",
    "print(grid_KNN.best_score_)"
   ]
  },
  {
   "cell_type": "code",
   "execution_count": 72,
   "metadata": {},
   "outputs": [
    {
     "name": "stdout",
     "output_type": "stream",
     "text": [
      "Fitting 5 folds for each of 3 candidates, totalling 15 fits\n"
     ]
    },
    {
     "name": "stderr",
     "output_type": "stream",
     "text": [
      "[Parallel(n_jobs=-1)]: Using backend LokyBackend with 4 concurrent workers.\n",
      "[Parallel(n_jobs=-1)]: Done  15 out of  15 | elapsed:  5.7min finished\n"
     ]
    },
    {
     "data": {
      "text/plain": [
       "GridSearchCV(cv=5, error_score='raise-deprecating',\n",
       "             estimator=KNeighborsClassifier(algorithm='auto', leaf_size=30,\n",
       "                                            metric='minkowski',\n",
       "                                            metric_params=None, n_jobs=None,\n",
       "                                            n_neighbors=5, p=2,\n",
       "                                            weights='uniform'),\n",
       "             iid='warn', n_jobs=-1, param_grid={'n_neighbors': (6, 8, 10)},\n",
       "             pre_dispatch='2*n_jobs', refit=True, return_train_score=False,\n",
       "             scoring=None, verbose=1)"
      ]
     },
     "execution_count": 72,
     "metadata": {},
     "output_type": "execute_result"
    }
   ],
   "source": [
    "parameters_KNN = {'n_neighbors': (6,8,10), }\n",
    "grid_KNN = GridSearchCV( KNeighborsClassifier(), parameters_KNN, cv=5,\n",
    "                        n_jobs=-1, verbose=1)\n",
    "grid_KNN.fit(data_tfidf_train_sc, label_train)"
   ]
  },
  {
   "cell_type": "code",
   "execution_count": 73,
   "metadata": {},
   "outputs": [
    {
     "name": "stdout",
     "output_type": "stream",
     "text": [
      "{'n_neighbors': 6}\n",
      "0.8743589743589744\n"
     ]
    }
   ],
   "source": [
    "print(grid_KNN.best_params_)\n",
    "print(grid_KNN.best_score_)"
   ]
  },
  {
   "cell_type": "markdown",
   "metadata": {},
   "source": [
    "## 3.2 train test split\n",
    "\n",
    "for text data"
   ]
  },
  {
   "cell_type": "code",
   "execution_count": 74,
   "metadata": {},
   "outputs": [],
   "source": [
    "from sklearn.model_selection import train_test_split\n",
    "\n",
    "sms_train, sms_test, label_train, label_test = \\\n",
    "    train_test_split(data[\"text\"], data[\"spam\"], test_size=0.3, random_state=5)"
   ]
  },
  {
   "cell_type": "code",
   "execution_count": 75,
   "metadata": {},
   "outputs": [
    {
     "data": {
      "text/plain": [
       "3507    Camera quite good, 10.1mega pixels, 3optical a...\n",
       "1332            It's ok lar. U sleep early too... Nite...\n",
       "4259        Are you plans with your family set in stone ?\n",
       "1236                             How much are we getting?\n",
       "2132    Your B4U voucher w/c 27/03 is MARSMS. Log onto...\n",
       "Name: text, dtype: object"
      ]
     },
     "execution_count": 75,
     "metadata": {},
     "output_type": "execute_result"
    }
   ],
   "source": [
    "sms_train.head()"
   ]
  },
  {
   "cell_type": "markdown",
   "metadata": {},
   "source": [
    "## 3.3 Classification Pipelines\n",
    "\n",
    "\n",
    "After splitting the data into a train and test set we now use a pipeline to apply the\n",
    "CountVectorizer and the TfidfTransformer on both sets.\n",
    "We also add a classifier to the pipeline, so we can combine all necessary steps in one object:\n",
    "\n",
    "* Preprecocessing\n",
    "* Crossvalidation (GridsearchCV)\n",
    "* Fitting\n",
    "* Predicting\n",
    "* Evaluating (test score)"
   ]
  },
  {
   "cell_type": "markdown",
   "metadata": {},
   "source": [
    "## 3.3.1 MultinomialNB\n",
    "\n",
    "\n",
    "simple Pipeline. no optimization"
   ]
  },
  {
   "cell_type": "code",
   "execution_count": 76,
   "metadata": {},
   "outputs": [],
   "source": [
    "pipe_MNB = Pipeline([ ('bow'  , CountVectorizer(analyzer = remove_punctuation_and_stopwords) ),\n",
    "                   ('tfidf'   , TfidfTransformer()),\n",
    "                   ('clf_MNB' , MultinomialNB()),\n",
    "                    ])"
   ]
  },
  {
   "cell_type": "markdown",
   "metadata": {},
   "source": [
    "test score"
   ]
  },
  {
   "cell_type": "code",
   "execution_count": 77,
   "metadata": {},
   "outputs": [
    {
     "name": "stdout",
     "output_type": "stream",
     "text": [
      "0.9665071770334929\n",
      "0.9665071770334929\n"
     ]
    }
   ],
   "source": [
    "pipe_MNB.fit(X=sms_train, y=label_train)\n",
    "pred_test_MNB = pipe_MNB.predict(sms_test)\n",
    "acc_MNB = accuracy_score(label_test, pred_test_MNB)\n",
    "print(acc_MNB)\n",
    "print(pipe_MNB.score(sms_test, label_test))"
   ]
  },
  {
   "cell_type": "markdown",
   "metadata": {},
   "source": [
    "The two steps\n",
    "## CountVectorizer and TfidfTransformer\n",
    "can also be performed in one step with\n",
    "TfidfVectorizer\n",
    "https://scikit-learn.org/stable/modules/generated/sklearn.feature_extraction.text.TfidfVectorizer.html\n",
    "Convert a collection of raw documents to a matrix of TF-IDF features\n",
    "Equivalent to CountVectorizer followed by TfidfTransformer."
   ]
  },
  {
   "cell_type": "code",
   "execution_count": 78,
   "metadata": {},
   "outputs": [],
   "source": [
    "from sklearn.feature_extraction.text import TfidfVectorizer"
   ]
  },
  {
   "cell_type": "code",
   "execution_count": 79,
   "metadata": {},
   "outputs": [],
   "source": [
    "pipe_MNB_tfidfvec = Pipeline([ ('tfidf_vec' , TfidfVectorizer(analyzer = remove_punctuation_and_stopwords)),\n",
    "                               ('clf_MNB'   , MultinomialNB()),\n",
    "                            ])"
   ]
  },
  {
   "cell_type": "code",
   "execution_count": 80,
   "metadata": {},
   "outputs": [
    {
     "name": "stdout",
     "output_type": "stream",
     "text": [
      "0.9665071770334929\n",
      "0.9665071770334929\n"
     ]
    }
   ],
   "source": [
    "pipe_MNB_tfidfvec.fit(X=sms_train, y=label_train)\n",
    "pred_test_MNB_tfidfvec = pipe_MNB_tfidfvec.predict(sms_test)\n",
    "acc_MNB_tfidfvec = accuracy_score(label_test, pred_test_MNB_tfidfvec)\n",
    "print(acc_MNB_tfidfvec)\n",
    "print(pipe_MNB_tfidfvec.score(sms_test, label_test))"
   ]
  },
  {
   "cell_type": "markdown",
   "metadata": {},
   "source": [
    "Yes, results are identical"
   ]
  },
  {
   "cell_type": "markdown",
   "metadata": {},
   "source": [
    "## 3.3.2 KNN\n",
    "\n",
    "Pipeline with GridSearchCV\n",
    "\n",
    "\n",
    "optimize best model parameter: n_neighbors"
   ]
  },
  {
   "cell_type": "code",
   "execution_count": 81,
   "metadata": {},
   "outputs": [
    {
     "name": "stdout",
     "output_type": "stream",
     "text": [
      "Fitting 5 folds for each of 3 candidates, totalling 15 fits\n"
     ]
    },
    {
     "name": "stderr",
     "output_type": "stream",
     "text": [
      "[Parallel(n_jobs=-1)]: Using backend LokyBackend with 4 concurrent workers.\n",
      "[Parallel(n_jobs=-1)]: Done  15 out of  15 | elapsed:  3.5min finished\n"
     ]
    },
    {
     "data": {
      "text/plain": [
       "GridSearchCV(cv=5, error_score='raise-deprecating',\n",
       "             estimator=Pipeline(memory=None,\n",
       "                                steps=[('bow',\n",
       "                                        CountVectorizer(analyzer=<function remove_punctuation_and_stopwords at 0x0000026A85A68598>,\n",
       "                                                        binary=False,\n",
       "                                                        decode_error='strict',\n",
       "                                                        dtype=<class 'numpy.int64'>,\n",
       "                                                        encoding='utf-8',\n",
       "                                                        input='content',\n",
       "                                                        lowercase=True,\n",
       "                                                        max_df=1.0,\n",
       "                                                        max_features=None,\n",
       "                                                        min_df=1,\n",
       "                                                        ngram_range=(1, 1),\n",
       "                                                        p...\n",
       "                                                         sublinear_tf=False,\n",
       "                                                         use_idf=True)),\n",
       "                                       ('clf_KNN',\n",
       "                                        KNeighborsClassifier(algorithm='auto',\n",
       "                                                             leaf_size=30,\n",
       "                                                             metric='minkowski',\n",
       "                                                             metric_params=None,\n",
       "                                                             n_jobs=None,\n",
       "                                                             n_neighbors=5, p=2,\n",
       "                                                             weights='uniform'))],\n",
       "                                verbose=False),\n",
       "             iid='warn', n_jobs=-1,\n",
       "             param_grid={'clf_KNN__n_neighbors': (8, 15, 20)},\n",
       "             pre_dispatch='2*n_jobs', refit=True, return_train_score=False,\n",
       "             scoring=None, verbose=1)"
      ]
     },
     "execution_count": 81,
     "metadata": {},
     "output_type": "execute_result"
    }
   ],
   "source": [
    "pipe_KNN = Pipeline([ ('bow'  , CountVectorizer(analyzer = remove_punctuation_and_stopwords) ),\n",
    "                   ('tfidf'   , TfidfTransformer()),\n",
    "                   ('clf_KNN' , KNeighborsClassifier() )\n",
    "                    ])\n",
    "\n",
    "parameters_KNN = {'clf_KNN__n_neighbors': (8,15,20), }\n",
    "\n",
    "grid_KNN = GridSearchCV(pipe_KNN, parameters_KNN, cv=5,\n",
    "                        n_jobs=-1, verbose=1)\n",
    "\n",
    "grid_KNN.fit(X=sms_train, y=label_train)"
   ]
  },
  {
   "cell_type": "markdown",
   "metadata": {},
   "source": [
    "best params"
   ]
  },
  {
   "cell_type": "code",
   "execution_count": 82,
   "metadata": {},
   "outputs": [
    {
     "data": {
      "text/plain": [
       "{'clf_KNN__n_neighbors': 15}"
      ]
     },
     "execution_count": 82,
     "metadata": {},
     "output_type": "execute_result"
    }
   ],
   "source": [
    "grid_KNN.best_params_"
   ]
  },
  {
   "cell_type": "markdown",
   "metadata": {},
   "source": [
    "cross validation score: best score"
   ]
  },
  {
   "cell_type": "code",
   "execution_count": 83,
   "metadata": {},
   "outputs": [
    {
     "data": {
      "text/plain": [
       "0.936923076923077"
      ]
     },
     "execution_count": 83,
     "metadata": {},
     "output_type": "execute_result"
    }
   ],
   "source": [
    "grid_KNN.best_score_"
   ]
  },
  {
   "cell_type": "markdown",
   "metadata": {},
   "source": [
    "test score"
   ]
  },
  {
   "cell_type": "code",
   "execution_count": 84,
   "metadata": {},
   "outputs": [
    {
     "name": "stdout",
     "output_type": "stream",
     "text": [
      "0.9515550239234449\n",
      "0.9515550239234449\n"
     ]
    }
   ],
   "source": [
    "pred_test_grid_KNN = grid_KNN.predict(sms_test)\n",
    "acc_KNN = accuracy_score(label_test, pred_test_grid_KNN)\n",
    "print(acc_KNN)\n",
    "print(grid_KNN.score(sms_test, label_test))"
   ]
  },
  {
   "cell_type": "markdown",
   "metadata": {},
   "source": [
    "## 3.3.3 SVC\n",
    "\n",
    "Pipeline with GridSearchCV\n",
    "\n",
    "search best preprocessing: apply TfidfTransformer (yes/no)"
   ]
  },
  {
   "cell_type": "code",
   "execution_count": 85,
   "metadata": {},
   "outputs": [
    {
     "name": "stdout",
     "output_type": "stream",
     "text": [
      "Fitting 5 folds for each of 6 candidates, totalling 30 fits\n"
     ]
    },
    {
     "name": "stderr",
     "output_type": "stream",
     "text": [
      "[Parallel(n_jobs=-1)]: Using backend LokyBackend with 4 concurrent workers.\n",
      "[Parallel(n_jobs=-1)]: Done  30 out of  30 | elapsed:  7.2min finished\n"
     ]
    },
    {
     "data": {
      "text/plain": [
       "GridSearchCV(cv=5, error_score='raise-deprecating',\n",
       "             estimator=Pipeline(memory=None,\n",
       "                                steps=[('bow',\n",
       "                                        CountVectorizer(analyzer=<function remove_punctuation_and_stopwords at 0x0000026A85A68598>,\n",
       "                                                        binary=False,\n",
       "                                                        decode_error='strict',\n",
       "                                                        dtype=<class 'numpy.int64'>,\n",
       "                                                        encoding='utf-8',\n",
       "                                                        input='content',\n",
       "                                                        lowercase=True,\n",
       "                                                        max_df=1.0,\n",
       "                                                        max_features=None,\n",
       "                                                        min_df=1,\n",
       "                                                        ngram_range=(1, 1),\n",
       "                                                        p...\n",
       "                                            kernel='rbf', max_iter=-1,\n",
       "                                            probability=False,\n",
       "                                            random_state=None, shrinking=True,\n",
       "                                            tol=0.001, verbose=False))],\n",
       "                                verbose=False),\n",
       "             iid='warn', n_jobs=-1,\n",
       "             param_grid={'clf_SVC__C': [500, 1000, 1500],\n",
       "                         'tfidf': [None,\n",
       "                                   TfidfTransformer(norm='l2', smooth_idf=True,\n",
       "                                                    sublinear_tf=False,\n",
       "                                                    use_idf=True)]},\n",
       "             pre_dispatch='2*n_jobs', refit=True, return_train_score=False,\n",
       "             scoring=None, verbose=1)"
      ]
     },
     "execution_count": 85,
     "metadata": {},
     "output_type": "execute_result"
    }
   ],
   "source": [
    "pipe_SVC = Pipeline([ ('bow'  , CountVectorizer(analyzer = remove_punctuation_and_stopwords) ),\n",
    "                   ('tfidf'   , TfidfTransformer()),\n",
    "                   ('clf_SVC' , SVC(gamma='auto', C=1000)),\n",
    "                    ])\n",
    "\n",
    "\n",
    "parameters_SVC = dict(tfidf=[None, TfidfTransformer()],\n",
    "                      clf_SVC__C=[500, 1000,1500]\n",
    "                      )\n",
    "#parameters = {'tfidf__use_idf': (True, False),    }\n",
    "\n",
    "grid_SVC = GridSearchCV(pipe_SVC, parameters_SVC, \n",
    "                        cv=5, n_jobs=-1, verbose=1)\n",
    "\n",
    "grid_SVC.fit(X=sms_train, y=label_train)"
   ]
  },
  {
   "cell_type": "code",
   "execution_count": 86,
   "metadata": {},
   "outputs": [
    {
     "data": {
      "text/plain": [
       "{'clf_SVC__C': 1500, 'tfidf': None}"
      ]
     },
     "execution_count": 86,
     "metadata": {},
     "output_type": "execute_result"
    }
   ],
   "source": [
    "grid_SVC.best_params_"
   ]
  },
  {
   "cell_type": "code",
   "execution_count": 87,
   "metadata": {},
   "outputs": [
    {
     "data": {
      "text/plain": [
       "0.9761538461538461"
      ]
     },
     "execution_count": 87,
     "metadata": {},
     "output_type": "execute_result"
    }
   ],
   "source": [
    "grid_SVC.best_score_"
   ]
  },
  {
   "cell_type": "code",
   "execution_count": 88,
   "metadata": {},
   "outputs": [
    {
     "name": "stdout",
     "output_type": "stream",
     "text": [
      "0.9838516746411483\n",
      "0.9838516746411483\n"
     ]
    }
   ],
   "source": [
    "pred_test_grid_SVC = grid_SVC.predict(sms_test)\n",
    "acc_SVC = accuracy_score(label_test, pred_test_grid_SVC)\n",
    "print(acc_SVC)\n",
    "print(grid_SVC.score(sms_test, label_test))"
   ]
  },
  {
   "cell_type": "markdown",
   "metadata": {},
   "source": [
    "## 3.3.4 SGD\n",
    "\n",
    "Pipeline with GridSearch\n",
    "\n",
    "search best preprocessing: use_idf (yes/no)\n",
    "    \n",
    "and best model parameters (alpha, penalty)"
   ]
  },
  {
   "cell_type": "code",
   "execution_count": 89,
   "metadata": {},
   "outputs": [
    {
     "name": "stdout",
     "output_type": "stream",
     "text": [
      "Fitting 5 folds for each of 4 candidates, totalling 20 fits\n"
     ]
    },
    {
     "name": "stderr",
     "output_type": "stream",
     "text": [
      "[Parallel(n_jobs=-1)]: Using backend LokyBackend with 4 concurrent workers.\n",
      "[Parallel(n_jobs=-1)]: Done  20 out of  20 | elapsed:  4.6min finished\n"
     ]
    },
    {
     "data": {
      "text/plain": [
       "GridSearchCV(cv=5, error_score='raise-deprecating',\n",
       "             estimator=Pipeline(memory=None,\n",
       "                                steps=[('bow',\n",
       "                                        CountVectorizer(analyzer=<function remove_punctuation_and_stopwords at 0x0000026A85A68598>,\n",
       "                                                        binary=False,\n",
       "                                                        decode_error='strict',\n",
       "                                                        dtype=<class 'numpy.int64'>,\n",
       "                                                        encoding='utf-8',\n",
       "                                                        input='content',\n",
       "                                                        lowercase=True,\n",
       "                                                        max_df=1.0,\n",
       "                                                        max_features=None,\n",
       "                                                        min_df=1,\n",
       "                                                        ngram_range=(1, 1),\n",
       "                                                        p...\n",
       "                                                      max_iter=1000,\n",
       "                                                      n_iter_no_change=5,\n",
       "                                                      n_jobs=None, penalty='l2',\n",
       "                                                      power_t=0.5,\n",
       "                                                      random_state=5,\n",
       "                                                      shuffle=True, tol=0.001,\n",
       "                                                      validation_fraction=0.1,\n",
       "                                                      verbose=0,\n",
       "                                                      warm_start=False))],\n",
       "                                verbose=False),\n",
       "             iid='warn', n_jobs=-1,\n",
       "             param_grid={'clf_SGD__alpha': (1e-05, 0.0001),\n",
       "                         'tfidf__use_idf': (True, False)},\n",
       "             pre_dispatch='2*n_jobs', refit=True, return_train_score=False,\n",
       "             scoring=None, verbose=1)"
      ]
     },
     "execution_count": 89,
     "metadata": {},
     "output_type": "execute_result"
    }
   ],
   "source": [
    "pipe_SGD = Pipeline([ ('bow'  , CountVectorizer(analyzer = remove_punctuation_and_stopwords) ),\n",
    "                   ('tfidf'   , TfidfTransformer()),\n",
    "                   ('clf_SGD' , SGDClassifier(random_state=5)),\n",
    "                    ])\n",
    "\n",
    "parameters_SGD = {\n",
    "    #'vect__ngram_range': ((1, 1), (1, 2)),  # unigrams or bigrams\n",
    "    'tfidf__use_idf': (True, False),\n",
    "    #'tfidf__norm': ('l1', 'l2'),\n",
    "    #'clf_SGD__max_iter': (5,10),\n",
    "    'clf_SGD__alpha': (1e-05, 1e-04),\n",
    "}\n",
    "\n",
    "grid_SGD = GridSearchCV(pipe_SGD, parameters_SGD, cv=5,\n",
    "                               n_jobs=-1, verbose=1)\n",
    "\n",
    "grid_SGD.fit(X=sms_train, y=label_train)"
   ]
  },
  {
   "cell_type": "code",
   "execution_count": 90,
   "metadata": {},
   "outputs": [
    {
     "data": {
      "text/plain": [
       "{'clf_SGD__alpha': 0.0001, 'tfidf__use_idf': True}"
      ]
     },
     "execution_count": 90,
     "metadata": {},
     "output_type": "execute_result"
    }
   ],
   "source": [
    "grid_SGD.best_params_"
   ]
  },
  {
   "cell_type": "code",
   "execution_count": 91,
   "metadata": {},
   "outputs": [
    {
     "data": {
      "text/plain": [
       "0.9766666666666667"
      ]
     },
     "execution_count": 91,
     "metadata": {},
     "output_type": "execute_result"
    }
   ],
   "source": [
    "grid_SGD.best_score_"
   ]
  },
  {
   "cell_type": "code",
   "execution_count": 92,
   "metadata": {},
   "outputs": [
    {
     "name": "stdout",
     "output_type": "stream",
     "text": [
      "0.9880382775119617\n",
      "0.9880382775119617\n"
     ]
    }
   ],
   "source": [
    "pred_test_grid_SGD = grid_SGD.predict(sms_test)\n",
    "acc_SGD = accuracy_score(label_test, pred_test_grid_SGD)\n",
    "print(acc_SGD)\n",
    "print(grid_SGD.score(sms_test, label_test))"
   ]
  },
  {
   "cell_type": "markdown",
   "metadata": {},
   "source": [
    "## 3.3.5 GradientBoostingClassifier"
   ]
  },
  {
   "cell_type": "code",
   "execution_count": 93,
   "metadata": {},
   "outputs": [
    {
     "name": "stdout",
     "output_type": "stream",
     "text": [
      "Fitting 5 folds for each of 4 candidates, totalling 20 fits\n"
     ]
    },
    {
     "name": "stderr",
     "output_type": "stream",
     "text": [
      "[Parallel(n_jobs=-1)]: Using backend LokyBackend with 4 concurrent workers.\n",
      "[Parallel(n_jobs=-1)]: Done  20 out of  20 | elapsed:  4.7min finished\n"
     ]
    },
    {
     "data": {
      "text/plain": [
       "GridSearchCV(cv=5, error_score='raise-deprecating',\n",
       "             estimator=Pipeline(memory=None,\n",
       "                                steps=[('bow',\n",
       "                                        CountVectorizer(analyzer=<function remove_punctuation_and_stopwords at 0x0000026A85A68598>,\n",
       "                                                        binary=False,\n",
       "                                                        decode_error='strict',\n",
       "                                                        dtype=<class 'numpy.int64'>,\n",
       "                                                        encoding='utf-8',\n",
       "                                                        input='content',\n",
       "                                                        lowercase=True,\n",
       "                                                        max_df=1.0,\n",
       "                                                        max_features=None,\n",
       "                                                        min_df=1,\n",
       "                                                        ngram_range=(1, 1),\n",
       "                                                        p...\n",
       "                                                                   min_weight_fraction_leaf=0.0,\n",
       "                                                                   n_estimators=100,\n",
       "                                                                   n_iter_no_change=None,\n",
       "                                                                   presort='auto',\n",
       "                                                                   random_state=5,\n",
       "                                                                   subsample=1.0,\n",
       "                                                                   tol=0.0001,\n",
       "                                                                   validation_fraction=0.1,\n",
       "                                                                   verbose=0,\n",
       "                                                                   warm_start=False))],\n",
       "                                verbose=False),\n",
       "             iid='warn', n_jobs=-1,\n",
       "             param_grid={'clf_GBC__learning_rate': (0.1, 0.2),\n",
       "                         'tfidf__use_idf': (True, False)},\n",
       "             pre_dispatch='2*n_jobs', refit=True, return_train_score=False,\n",
       "             scoring=None, verbose=1)"
      ]
     },
     "execution_count": 93,
     "metadata": {},
     "output_type": "execute_result"
    }
   ],
   "source": [
    "pipe_GBC = Pipeline([ ('bow'  , CountVectorizer(analyzer = remove_punctuation_and_stopwords) ),\n",
    "                      ('tfidf'   , TfidfTransformer() ),\n",
    "                      ('clf_GBC' , GradientBoostingClassifier(random_state=5) ),\n",
    "                    ])\n",
    "\n",
    "parameters_GBC = { 'tfidf__use_idf': (True, False), \n",
    "                   'clf_GBC__learning_rate': (0.1, 0.2),\n",
    "                   #'clf_GBC__min_samples_split': (3,5), \n",
    "                 }\n",
    "\n",
    "grid_GBC = GridSearchCV(pipe_GBC, parameters_GBC, \n",
    "                        cv=5, n_jobs=-1, verbose=1)\n",
    "\n",
    "grid_GBC.fit(X=sms_train, y=label_train)"
   ]
  },
  {
   "cell_type": "code",
   "execution_count": 94,
   "metadata": {},
   "outputs": [
    {
     "data": {
      "text/plain": [
       "{'clf_GBC__learning_rate': 0.2, 'tfidf__use_idf': False}"
      ]
     },
     "execution_count": 94,
     "metadata": {},
     "output_type": "execute_result"
    }
   ],
   "source": [
    "grid_GBC.best_params_"
   ]
  },
  {
   "cell_type": "code",
   "execution_count": 95,
   "metadata": {},
   "outputs": [
    {
     "data": {
      "text/plain": [
       "0.9641025641025641"
      ]
     },
     "execution_count": 95,
     "metadata": {},
     "output_type": "execute_result"
    }
   ],
   "source": [
    "grid_GBC.best_score_"
   ]
  },
  {
   "cell_type": "code",
   "execution_count": 96,
   "metadata": {},
   "outputs": [
    {
     "name": "stdout",
     "output_type": "stream",
     "text": [
      "0.9736842105263158\n",
      "0.9736842105263158\n"
     ]
    }
   ],
   "source": [
    "pred_test_grid_GBC = grid_GBC.predict(sms_test)\n",
    "acc_GBC = accuracy_score(label_test, pred_test_grid_GBC)\n",
    "print(acc_GBC)\n",
    "print(grid_GBC.score(sms_test, label_test))"
   ]
  },
  {
   "cell_type": "markdown",
   "metadata": {},
   "source": [
    "## 3.3.6 XGBoost Classifier"
   ]
  },
  {
   "cell_type": "code",
   "execution_count": 101,
   "metadata": {},
   "outputs": [],
   "source": [
    "import xgboost as xgb"
   ]
  },
  {
   "cell_type": "code",
   "execution_count": 102,
   "metadata": {},
   "outputs": [
    {
     "name": "stdout",
     "output_type": "stream",
     "text": [
      "Fitting 5 folds for each of 8 candidates, totalling 40 fits\n"
     ]
    },
    {
     "name": "stderr",
     "output_type": "stream",
     "text": [
      "[Parallel(n_jobs=-1)]: Using backend LokyBackend with 4 concurrent workers.\n",
      "[Parallel(n_jobs=-1)]: Done  40 out of  40 | elapsed: 11.7min finished\n"
     ]
    },
    {
     "data": {
      "text/plain": [
       "GridSearchCV(cv=5, error_score='raise-deprecating',\n",
       "             estimator=Pipeline(memory=None,\n",
       "                                steps=[('bow',\n",
       "                                        CountVectorizer(analyzer=<function remove_punctuation_and_stopwords at 0x0000026A85A68598>,\n",
       "                                                        binary=False,\n",
       "                                                        decode_error='strict',\n",
       "                                                        dtype=<class 'numpy.int64'>,\n",
       "                                                        encoding='utf-8',\n",
       "                                                        input='content',\n",
       "                                                        lowercase=True,\n",
       "                                                        max_df=1.0,\n",
       "                                                        max_features=None,\n",
       "                                                        min_df=1,\n",
       "                                                        ngram_range=(1, 1),\n",
       "                                                        p...\n",
       "                                                      objective='binary:logistic',\n",
       "                                                      random_state=5,\n",
       "                                                      reg_alpha=0, reg_lambda=1,\n",
       "                                                      scale_pos_weight=1,\n",
       "                                                      seed=None, silent=None,\n",
       "                                                      subsample=1,\n",
       "                                                      verbosity=1))],\n",
       "                                verbose=False),\n",
       "             iid='warn', n_jobs=-1,\n",
       "             param_grid={'clf_XGB__eta': (0.01, 0.02),\n",
       "                         'clf_XGB__max_depth': (5, 6),\n",
       "                         'tfidf__use_idf': (True, False)},\n",
       "             pre_dispatch='2*n_jobs', refit=True, return_train_score=False,\n",
       "             scoring=None, verbose=1)"
      ]
     },
     "execution_count": 102,
     "metadata": {},
     "output_type": "execute_result"
    }
   ],
   "source": [
    "pipe_XGB = Pipeline([ ('bow'  , CountVectorizer(analyzer = remove_punctuation_and_stopwords) ),\n",
    "                      ('tfidf'   , TfidfTransformer() ),\n",
    "                      ('clf_XGB' , xgb.XGBClassifier(random_state=5) ),\n",
    "                    ])\n",
    "\n",
    "parameters_XGB = { 'tfidf__use_idf': (True, False), \n",
    "                   'clf_XGB__eta': (0.01, 0.02),\n",
    "                   'clf_XGB__max_depth': (5,6), \n",
    "                 }\n",
    "\n",
    "grid_XGB = GridSearchCV(pipe_XGB, parameters_XGB, \n",
    "                        cv=5, n_jobs=-1, verbose=1)\n",
    "\n",
    "grid_XGB.fit(X=sms_train, y=label_train)"
   ]
  },
  {
   "cell_type": "code",
   "execution_count": 103,
   "metadata": {},
   "outputs": [
    {
     "data": {
      "text/plain": [
       "{'clf_XGB__eta': 0.01, 'clf_XGB__max_depth': 5, 'tfidf__use_idf': False}"
      ]
     },
     "execution_count": 103,
     "metadata": {},
     "output_type": "execute_result"
    }
   ],
   "source": [
    "grid_XGB.best_params_"
   ]
  },
  {
   "cell_type": "code",
   "execution_count": 104,
   "metadata": {},
   "outputs": [
    {
     "data": {
      "text/plain": [
       "0.958974358974359"
      ]
     },
     "execution_count": 104,
     "metadata": {},
     "output_type": "execute_result"
    }
   ],
   "source": [
    "grid_XGB.best_score_"
   ]
  },
  {
   "cell_type": "code",
   "execution_count": 105,
   "metadata": {},
   "outputs": [
    {
     "name": "stdout",
     "output_type": "stream",
     "text": [
      "0.9736842105263158\n",
      "0.9736842105263158\n"
     ]
    }
   ],
   "source": [
    "pred_test_grid_XGB = grid_XGB.predict(sms_test)\n",
    "acc_XGB = accuracy_score(label_test, pred_test_grid_XGB)\n",
    "print(acc_XGB)\n",
    "print(grid_XGB.score(sms_test, label_test))"
   ]
  },
  {
   "cell_type": "markdown",
   "metadata": {},
   "source": [
    "## 3.4 Comparison of results\n",
    "\n",
    "https://towardsdatascience.com/understanding-data-science-classification-metrics-in-scikit-learn-in-python-3bc336865019\n",
    "\n",
    "https://scikit-learn.org/stable/modules/model_evaluation.html"
   ]
  },
  {
   "cell_type": "code",
   "execution_count": 106,
   "metadata": {},
   "outputs": [],
   "source": [
    "from sklearn.metrics import precision_score, recall_score, f1_score\n",
    "from sklearn.metrics import precision_recall_fscore_support\n",
    "from sklearn.metrics import roc_auc_score"
   ]
  },
  {
   "cell_type": "markdown",
   "metadata": {},
   "source": [
    "For a binary classification task, there are 4 possible results:\n",
    "\n",
    "TN: True negatives (ham mails labeled as ham)\n",
    "    \n",
    "FP: False positives (ham mails labeled as spam)\n",
    "    \n",
    "FN: False negatives (spam mails labeled as ham)\n",
    "    \n",
    "TP: True positives (spam mails labeled as spam)\n",
    "    \n",
    "## confusion_matrix\n",
    "The confusion matrix gives an overview of the classification results:\n",
    "\n",
    "The diagonal elements represent the number of points for which the predicted label is equal to the true label,\n",
    "while off-diagonal elements are those that are mislabeled by the classifier.\n",
    "\n",
    "The higher the diagonal values of the confusion matrix the better, indicating many correct predictions.\n",
    "\n",
    "The rows of a confusion matrix correspond to the true (actual) classes and the columns correspond to the predicted classes.\n",
    "So, all together the confusion matrix for a binary classifier consists of 4 values:"
   ]
  },
  {
   "cell_type": "markdown",
   "metadata": {},
   "source": [
    "TN FP\n",
    "\n",
    "FN TP\n",
    "\n",
    "Using seaborn heat map for nice plot of confusion matrix"
   ]
  },
  {
   "cell_type": "code",
   "execution_count": 107,
   "metadata": {},
   "outputs": [],
   "source": [
    "def plot_confusion_matrix(y_true, y_pred):\n",
    "    mtx = confusion_matrix(y_true, y_pred)\n",
    "    #fig, ax = plt.subplots(figsize=(4,4))\n",
    "    sns.heatmap(mtx, annot=True, fmt='d', linewidths=.5,  \n",
    "                cmap=\"Blues\", square=True, cbar=False)\n",
    "    #  \n",
    "    plt.ylabel('true label')\n",
    "    plt.xlabel('predicted label')"
   ]
  },
  {
   "cell_type": "markdown",
   "metadata": {},
   "source": [
    "Dictionary of predictions"
   ]
  },
  {
   "cell_type": "code",
   "execution_count": 108,
   "metadata": {},
   "outputs": [],
   "source": [
    "list_clf = [\"MNB\", \"KNN\", \"SVC\", \"SGD\", \"GBC\", \"XGB\"]\n",
    "\n",
    "list_pred = [pred_test_MNB, pred_test_grid_KNN, \n",
    "             pred_test_grid_SVC, pred_test_grid_SGD,\n",
    "             pred_test_grid_GBC, pred_test_grid_XGB]\n",
    "\n",
    "dict_pred = dict(zip(list_clf, list_pred))"
   ]
  },
  {
   "cell_type": "code",
   "execution_count": 109,
   "metadata": {},
   "outputs": [],
   "source": [
    "def plot_all_confusion_matrices(y_true, dict_all_pred, str_title):\n",
    "    \n",
    "    list_classifiers = list(dict_all_pred.keys())\n",
    "    plt.figure(figsize=(10,7.5))\n",
    "    plt.suptitle(str_title, fontsize=20, fontweight='bold')\n",
    "    n=231\n",
    "\n",
    "    for clf in list_classifiers : \n",
    "        plt.subplot(n)\n",
    "        plot_confusion_matrix(y_true, dict_all_pred[clf])\n",
    "        plt.title(clf, fontweight='bold')\n",
    "        n+=1\n",
    "\n",
    "    plt.tight_layout()\n",
    "    plt.subplots_adjust(top=0.9)"
   ]
  },
  {
   "cell_type": "code",
   "execution_count": 110,
   "metadata": {},
   "outputs": [
    {
     "data": {
      "image/png": "[encoded data removed]",
      "text/plain": [
       "<Figure size 720x540 with 6 Axes>"
      ]
     },
     "metadata": {
      "needs_background": "light"
     },
     "output_type": "display_data"
    }
   ],
   "source": [
    "plot_all_confusion_matrices(label_test, dict_pred, \"Pipelines v1, scoring=accuracy\")"
   ]
  },
  {
   "cell_type": "markdown",
   "metadata": {},
   "source": [
    "## accuracy_score\n",
    "\n",
    "classification accuracy = correct predictions / total predictions = (TP + TN) / (TP + TN + FP + FN)"
   ]
  },
  {
   "cell_type": "code",
   "execution_count": 111,
   "metadata": {},
   "outputs": [],
   "source": [
    "dict_acc = {}\n",
    "for clf in list_clf :\n",
    "    dict_acc[clf] = accuracy_score(label_test, dict_pred[clf])"
   ]
  },
  {
   "cell_type": "code",
   "execution_count": 112,
   "metadata": {},
   "outputs": [
    {
     "name": "stdout",
     "output_type": "stream",
     "text": [
      "MNB   0.9665071770334929\n",
      "KNN   0.9515550239234449\n",
      "SVC   0.9838516746411483\n",
      "SGD   0.9880382775119617\n",
      "GBC   0.9736842105263158\n",
      "XGB   0.9736842105263158\n"
     ]
    }
   ],
   "source": [
    "for clf in list_clf :\n",
    "    print(clf, \" \" , dict_acc[clf])"
   ]
  },
  {
   "cell_type": "markdown",
   "metadata": {},
   "source": [
    "Comparing the accuracy_score with the confusion matrices, one finds that\n",
    "accuracy score may not be the best parameter to choose the best classifier.\n",
    "SGD, a model with high accuracy_score, incorrectly classifies 6 ham mails as spam,\n",
    "which is usually not wanted for a spam classifier (important mails might get lost).\n",
    "MNB has less accuracy than SGD, but it classifies all ham mails correctly.\n",
    "SVC also classifies all ham mails correctly but compared to MNB it classifies\n",
    "much more spam mails correctly.\n",
    "Apart from accuracy there are further scoring methods to evaluate a classifier.\n",
    "Lets look at the other classifier scores in more detail:\n",
    "precision, recall, fscore, support, roc_auc\n",
    "\n",
    "## precision_score\n",
    "\n",
    "The precision is the ratio TP / (TP + FP) where TP is the number of true positives and TP the number of false positives.\n",
    "\n",
    "The precision is intuitively the ability of the classifier not to label as positive a sample that is negative.\n",
    "Precision = 1 for FP = 0 and precision goes up when FP goes down."
   ]
  },
  {
   "cell_type": "code",
   "execution_count": 113,
   "metadata": {},
   "outputs": [
    {
     "name": "stdout",
     "output_type": "stream",
     "text": [
      "MNB   1.0\n",
      "KNN   0.9921875\n",
      "SVC   1.0\n",
      "SGD   0.9895287958115183\n",
      "GBC   0.9657142857142857\n",
      "XGB   0.9766081871345029\n"
     ]
    }
   ],
   "source": [
    "for clf in list_clf :\n",
    "    print(clf, \" \", precision_score(label_test, dict_pred[clf]))"
   ]
  },
  {
   "cell_type": "markdown",
   "metadata": {},
   "source": [
    "By definition the precision is calculated for the negative class (label = 0, ham mails).\n",
    "This is also the default when calling precision score without any further parameters.\n",
    "But we can also examine the precision for the individual labels (ham,spam = 0,1)"
   ]
  },
  {
   "cell_type": "code",
   "execution_count": 114,
   "metadata": {},
   "outputs": [
    {
     "name": "stdout",
     "output_type": "stream",
     "text": [
      "MNB   [0.96318212 1.        ]\n",
      "KNN   [0.94818653 0.9921875 ]\n",
      "SVC   [0.98190349 1.        ]\n",
      "SGD   [0.98784605 0.9895288 ]\n",
      "GBC   [0.9746159  0.96571429]\n",
      "XGB   [0.9733511  0.97660819]\n"
     ]
    }
   ],
   "source": [
    "for clf in list_clf :\n",
    "    print(clf, \" \", precision_score(label_test, dict_pred[clf], average=None, labels=[0,1]))"
   ]
  },
  {
   "cell_type": "markdown",
   "metadata": {},
   "source": [
    "Precision for classifying ham mails is 1.0 for the MNB and SVC classifier.\n",
    "SGD has the best precision for classifying ham mails."
   ]
  },
  {
   "cell_type": "code",
   "execution_count": null,
   "metadata": {},
   "outputs": [],
   "source": []
  },
  {
   "cell_type": "markdown",
   "metadata": {},
   "source": [
    "## recall_score\n",
    "The recall is the ratio TP / (TP + FN) where TP is the number of true positives and FN the number of false negatives.\n",
    "The recall is intuitively the ability of the classifier to find all the positive samples."
   ]
  },
  {
   "cell_type": "code",
   "execution_count": 115,
   "metadata": {},
   "outputs": [
    {
     "name": "stdout",
     "output_type": "stream",
     "text": [
      "MNB   0.7294685990338164\n",
      "KNN   0.6135265700483091\n",
      "SVC   0.8695652173913043\n",
      "SGD   0.9130434782608695\n",
      "GBC   0.8164251207729468\n",
      "XGB   0.8067632850241546\n"
     ]
    }
   ],
   "source": [
    "for clf in list_clf :\n",
    "    print(clf, \" \", recall_score(label_test, dict_pred[clf]))"
   ]
  },
  {
   "cell_type": "markdown",
   "metadata": {},
   "source": [
    "Recall is defined regarding the positive class (label=1, spam mails).\n",
    "Again, if we call the recall score method with the labels parameter, we get\n",
    "the recall for ham and spam messages:"
   ]
  },
  {
   "cell_type": "code",
   "execution_count": 116,
   "metadata": {},
   "outputs": [
    {
     "name": "stdout",
     "output_type": "stream",
     "text": [
      "MNB   [1.        0.7294686]\n",
      "KNN   [0.99931741 0.61352657]\n",
      "SVC   [1.         0.86956522]\n",
      "SGD   [0.99863481 0.91304348]\n",
      "GBC   [0.99590444 0.81642512]\n",
      "XGB   [0.99726962 0.80676329]\n"
     ]
    }
   ],
   "source": [
    "for clf in list_clf :\n",
    "    print(clf, \" \", recall_score(label_test, dict_pred[clf], average=None, labels=[0,1] ))"
   ]
  },
  {
   "cell_type": "code",
   "execution_count": null,
   "metadata": {},
   "outputs": [],
   "source": []
  },
  {
   "cell_type": "markdown",
   "metadata": {},
   "source": [
    "## f1_score\n",
    "\n",
    "The F-beta score can be interpreted as a weighted harmonic mean of the precision and recall,\n",
    "where an F-beta score reaches its best value at 1 and worst score at 0.\n",
    "The F-beta score weights recall more than precision by a factor of beta.\n",
    "beta == 1.0 means recall and precision are equally important."
   ]
  },
  {
   "cell_type": "code",
   "execution_count": 117,
   "metadata": {},
   "outputs": [
    {
     "name": "stdout",
     "output_type": "stream",
     "text": [
      "MNB   0.8435754189944134\n",
      "KNN   0.7582089552238805\n",
      "SVC   0.9302325581395349\n",
      "SGD   0.949748743718593\n",
      "GBC   0.8848167539267014\n",
      "XGB   0.8835978835978836\n"
     ]
    }
   ],
   "source": [
    "for clf in list_clf :\n",
    "    print(clf, \" \", f1_score(label_test, dict_pred[clf]))"
   ]
  },
  {
   "cell_type": "code",
   "execution_count": 118,
   "metadata": {},
   "outputs": [
    {
     "name": "stdout",
     "output_type": "stream",
     "text": [
      "MNB   [0.98124581 0.84357542]\n",
      "KNN   [0.97308076 0.75820896]\n",
      "SVC   [0.99086912 0.93023256]\n",
      "SGD   [0.99321113 0.94974874]\n",
      "GBC   [0.98514517 0.88481675]\n",
      "XGB   [0.98516521 0.88359788]\n"
     ]
    }
   ],
   "source": [
    "for clf in list_clf :\n",
    "    print(clf, \" \", f1_score(label_test, dict_pred[clf], average=None, labels=[0,1] ))"
   ]
  },
  {
   "cell_type": "markdown",
   "metadata": {},
   "source": [
    "## classification_report"
   ]
  },
  {
   "cell_type": "code",
   "execution_count": 119,
   "metadata": {},
   "outputs": [
    {
     "name": "stdout",
     "output_type": "stream",
     "text": [
      "              precision    recall  f1-score   support\n",
      "\n",
      "           0       0.96      1.00      0.98      1465\n",
      "           1       1.00      0.73      0.84       207\n",
      "\n",
      "    accuracy                           0.97      1672\n",
      "   macro avg       0.98      0.86      0.91      1672\n",
      "weighted avg       0.97      0.97      0.96      1672\n",
      "\n"
     ]
    }
   ],
   "source": [
    "print(classification_report(label_test, pred_test_MNB))"
   ]
  },
  {
   "cell_type": "code",
   "execution_count": null,
   "metadata": {},
   "outputs": [],
   "source": []
  },
  {
   "cell_type": "markdown",
   "metadata": {},
   "source": [
    "precision_recall_fscore_support"
   ]
  },
  {
   "cell_type": "code",
   "execution_count": 120,
   "metadata": {},
   "outputs": [
    {
     "name": "stdout",
     "output_type": "stream",
     "text": [
      "MNB   (array([0.96318212, 1.        ]), array([1.       , 0.7294686]), array([0.98124581, 0.84357542]), array([1465,  207], dtype=int64))\n",
      "KNN   (array([0.94818653, 0.9921875 ]), array([0.99931741, 0.61352657]), array([0.97308076, 0.75820896]), array([1465,  207], dtype=int64))\n",
      "SVC   (array([0.98190349, 1.        ]), array([1.        , 0.86956522]), array([0.99086912, 0.93023256]), array([1465,  207], dtype=int64))\n",
      "SGD   (array([0.98784605, 0.9895288 ]), array([0.99863481, 0.91304348]), array([0.99321113, 0.94974874]), array([1465,  207], dtype=int64))\n",
      "GBC   (array([0.9746159 , 0.96571429]), array([0.99590444, 0.81642512]), array([0.98514517, 0.88481675]), array([1465,  207], dtype=int64))\n",
      "XGB   (array([0.9733511 , 0.97660819]), array([0.99726962, 0.80676329]), array([0.98516521, 0.88359788]), array([1465,  207], dtype=int64))\n"
     ]
    }
   ],
   "source": [
    "for clf in list_clf :\n",
    "    print(clf, \" \", precision_recall_fscore_support(label_test, dict_pred[clf], average=None, labels=[0,1] ))"
   ]
  },
  {
   "cell_type": "code",
   "execution_count": null,
   "metadata": {},
   "outputs": [],
   "source": []
  },
  {
   "cell_type": "markdown",
   "metadata": {},
   "source": [
    "## roc_auc_score"
   ]
  },
  {
   "cell_type": "code",
   "execution_count": 121,
   "metadata": {},
   "outputs": [
    {
     "name": "stdout",
     "output_type": "stream",
     "text": [
      "MNB   0.8647342995169083\n",
      "KNN   0.806421988095827\n",
      "SVC   0.9347826086956521\n",
      "SGD   0.9558391452737794\n",
      "GBC   0.9061647788165076\n",
      "XGB   0.9020164547987667\n"
     ]
    }
   ],
   "source": [
    "for clf in list_clf :\n",
    "    print(clf, \" \", roc_auc_score(label_test, dict_pred[clf] ))"
   ]
  },
  {
   "cell_type": "code",
   "execution_count": 122,
   "metadata": {},
   "outputs": [
    {
     "data": {
      "text/plain": [
       "dict_keys(['explained_variance', 'r2', 'max_error', 'neg_median_absolute_error', 'neg_mean_absolute_error', 'neg_mean_squared_error', 'neg_mean_squared_log_error', 'accuracy', 'roc_auc', 'balanced_accuracy', 'average_precision', 'neg_log_loss', 'brier_score_loss', 'adjusted_rand_score', 'homogeneity_score', 'completeness_score', 'v_measure_score', 'mutual_info_score', 'adjusted_mutual_info_score', 'normalized_mutual_info_score', 'fowlkes_mallows_score', 'precision', 'precision_macro', 'precision_micro', 'precision_samples', 'precision_weighted', 'recall', 'recall_macro', 'recall_micro', 'recall_samples', 'recall_weighted', 'f1', 'f1_macro', 'f1_micro', 'f1_samples', 'f1_weighted', 'jaccard', 'jaccard_macro', 'jaccard_micro', 'jaccard_samples', 'jaccard_weighted'])"
      ]
     },
     "execution_count": 122,
     "metadata": {},
     "output_type": "execute_result"
    }
   ],
   "source": [
    "import sklearn.metrics\n",
    "sklearn.metrics.SCORERS.keys()"
   ]
  },
  {
   "cell_type": "code",
   "execution_count": null,
   "metadata": {},
   "outputs": [],
   "source": []
  },
  {
   "cell_type": "markdown",
   "metadata": {},
   "source": [
    "## 3.5 Optimize classifiers with scoring by precision\n",
    "\n",
    "\n",
    "We perform GridSearchCV again, using the same parameter grids and pipelines like before.\n",
    "\n",
    "For all classifier pipelines, we only change the scoring method from \"accuracy\" to \"precision\"."
   ]
  },
  {
   "cell_type": "code",
   "execution_count": 123,
   "metadata": {},
   "outputs": [],
   "source": [
    "scoring = 'precision'"
   ]
  },
  {
   "cell_type": "markdown",
   "metadata": {},
   "source": [
    "## 3.5.1 GridSearchCV pipelines version 2\n",
    "\n",
    "MNB\n",
    "\n",
    "The precision for MNB was already 1.0 so it can not be improved.\n",
    "\n",
    "KNN"
   ]
  },
  {
   "cell_type": "code",
   "execution_count": 124,
   "metadata": {},
   "outputs": [
    {
     "name": "stdout",
     "output_type": "stream",
     "text": [
      "Fitting 5 folds for each of 3 candidates, totalling 15 fits\n"
     ]
    },
    {
     "name": "stderr",
     "output_type": "stream",
     "text": [
      "[Parallel(n_jobs=-1)]: Using backend LokyBackend with 4 concurrent workers.\n",
      "[Parallel(n_jobs=-1)]: Done  15 out of  15 | elapsed:  3.5min finished\n"
     ]
    }
   ],
   "source": [
    "grid_KNN_2 = GridSearchCV(pipe_KNN, parameters_KNN, cv=5,\n",
    "                          scoring=scoring, n_jobs=-1, verbose=1)\n",
    "\n",
    "grid_KNN_2.fit(X=sms_train, y=label_train)\n",
    "pred_test_grid_KNN_2 = grid_KNN_2.predict(sms_test)"
   ]
  },
  {
   "cell_type": "code",
   "execution_count": 125,
   "metadata": {},
   "outputs": [
    {
     "data": {
      "text/plain": [
       "{'clf_KNN__n_neighbors': 8}"
      ]
     },
     "execution_count": 125,
     "metadata": {},
     "output_type": "execute_result"
    }
   ],
   "source": [
    "grid_KNN_2.best_params_"
   ]
  },
  {
   "cell_type": "markdown",
   "metadata": {},
   "source": [
    "SVC"
   ]
  },
  {
   "cell_type": "code",
   "execution_count": 126,
   "metadata": {},
   "outputs": [
    {
     "name": "stdout",
     "output_type": "stream",
     "text": [
      "Fitting 5 folds for each of 6 candidates, totalling 30 fits\n"
     ]
    },
    {
     "name": "stderr",
     "output_type": "stream",
     "text": [
      "[Parallel(n_jobs=-1)]: Using backend LokyBackend with 4 concurrent workers.\n",
      "[Parallel(n_jobs=-1)]: Done  30 out of  30 | elapsed:  6.3min finished\n"
     ]
    }
   ],
   "source": [
    "grid_SVC_2 = GridSearchCV(pipe_SVC, parameters_SVC, cv=5,\n",
    "                          scoring=scoring, n_jobs=-1, verbose=1)\n",
    "\n",
    "grid_SVC_2.fit(X=sms_train, y=label_train)\n",
    "pred_test_grid_SVC_2 = grid_SVC_2.predict(sms_test)"
   ]
  },
  {
   "cell_type": "markdown",
   "metadata": {},
   "source": [
    "SGD"
   ]
  },
  {
   "cell_type": "code",
   "execution_count": 127,
   "metadata": {},
   "outputs": [
    {
     "name": "stdout",
     "output_type": "stream",
     "text": [
      "Fitting 5 folds for each of 4 candidates, totalling 20 fits\n"
     ]
    },
    {
     "name": "stderr",
     "output_type": "stream",
     "text": [
      "[Parallel(n_jobs=-1)]: Using backend LokyBackend with 4 concurrent workers.\n",
      "[Parallel(n_jobs=-1)]: Done  20 out of  20 | elapsed:  4.2min finished\n"
     ]
    }
   ],
   "source": [
    "grid_SGD_2 = GridSearchCV(pipe_SGD, parameters_SGD, cv=5,\n",
    "                          scoring=scoring, n_jobs=-1, verbose=1)\n",
    "\n",
    "grid_SGD_2.fit(X=sms_train, y=label_train)\n",
    "pred_test_grid_SGD_2 = grid_SGD_2.predict(sms_test)"
   ]
  },
  {
   "cell_type": "markdown",
   "metadata": {},
   "source": [
    "GBC"
   ]
  },
  {
   "cell_type": "code",
   "execution_count": 128,
   "metadata": {},
   "outputs": [
    {
     "name": "stdout",
     "output_type": "stream",
     "text": [
      "Fitting 5 folds for each of 4 candidates, totalling 20 fits\n"
     ]
    },
    {
     "name": "stderr",
     "output_type": "stream",
     "text": [
      "[Parallel(n_jobs=-1)]: Using backend LokyBackend with 4 concurrent workers.\n",
      "[Parallel(n_jobs=-1)]: Done  20 out of  20 | elapsed:  4.6min finished\n"
     ]
    }
   ],
   "source": [
    "grid_GBC_2 = GridSearchCV(pipe_GBC, parameters_GBC, cv=5,\n",
    "                          scoring=scoring, n_jobs=-1, verbose=1)\n",
    "\n",
    "grid_GBC_2.fit(X=sms_train, y=label_train)\n",
    "pred_test_grid_GBC_2 = grid_GBC_2.predict(sms_test)"
   ]
  },
  {
   "cell_type": "markdown",
   "metadata": {},
   "source": [
    "XGB"
   ]
  },
  {
   "cell_type": "code",
   "execution_count": 129,
   "metadata": {},
   "outputs": [
    {
     "name": "stdout",
     "output_type": "stream",
     "text": [
      "Fitting 5 folds for each of 8 candidates, totalling 40 fits\n"
     ]
    },
    {
     "name": "stderr",
     "output_type": "stream",
     "text": [
      "[Parallel(n_jobs=-1)]: Using backend LokyBackend with 4 concurrent workers.\n",
      "[Parallel(n_jobs=-1)]: Done  40 out of  40 | elapsed: 10.0min finished\n"
     ]
    }
   ],
   "source": [
    "grid_XGB_2 = GridSearchCV(pipe_XGB, parameters_XGB, cv=5,\n",
    "                          scoring=scoring, n_jobs=-1, verbose=1)\n",
    "\n",
    "grid_XGB_2.fit(X=sms_train, y=label_train)\n",
    "pred_test_grid_XGB_2 = grid_XGB_2.predict(sms_test)"
   ]
  },
  {
   "cell_type": "markdown",
   "metadata": {},
   "source": [
    "## 3.5.2 Confusion matrices for scoring by precision"
   ]
  },
  {
   "cell_type": "code",
   "execution_count": 130,
   "metadata": {},
   "outputs": [],
   "source": [
    "list_clf = [\"MNB\", \"KNN_2\", \"SVC_2\", \"SGD_2\", \"GBC_2\", \"XGB_2\"]\n",
    "\n",
    "list_pred = [pred_test_MNB, pred_test_grid_KNN_2, \n",
    "             pred_test_grid_SVC_2, pred_test_grid_SGD_2,\n",
    "             pred_test_grid_GBC_2, pred_test_grid_XGB_2]\n",
    "\n",
    "dict_pred_2 = dict(zip(list_clf, list_pred))"
   ]
  },
  {
   "cell_type": "code",
   "execution_count": 131,
   "metadata": {},
   "outputs": [
    {
     "data": {
      "image/png": "[encoded data removed]",
      "text/plain": [
       "<Figure size 720x540 with 6 Axes>"
      ]
     },
     "metadata": {
      "needs_background": "light"
     },
     "output_type": "display_data"
    }
   ],
   "source": [
    "plot_all_confusion_matrices(label_test, dict_pred_2, \"Pipelines v2, scoring=precision\")"
   ]
  },
  {
   "cell_type": "markdown",
   "metadata": {},
   "source": [
    "## 3.6 Optimize classifiers with scoring by recall\n",
    "\n",
    "For spam detection optimizing tbe classifiers by precision seems most reasonable.\n",
    "But for other tasks it may be advantageous to have a classifier with maximum recall.\n",
    "For example, in Credit Card Fraud detections, you want to find all fraud samples.\n",
    "For all classifier pipelines, we perform GridSearchCV again, using the same parameter grids\n",
    "and only changing the scoring method to \"recall\"."
   ]
  },
  {
   "cell_type": "code",
   "execution_count": 132,
   "metadata": {},
   "outputs": [],
   "source": [
    "scoring = 'recall'"
   ]
  },
  {
   "cell_type": "markdown",
   "metadata": {},
   "source": [
    "## 3.6.1 GridSearchCV pipelines version 3"
   ]
  },
  {
   "cell_type": "markdown",
   "metadata": {},
   "source": [
    "## KNN"
   ]
  },
  {
   "cell_type": "code",
   "execution_count": 133,
   "metadata": {},
   "outputs": [
    {
     "name": "stdout",
     "output_type": "stream",
     "text": [
      "Fitting 5 folds for each of 3 candidates, totalling 15 fits\n"
     ]
    },
    {
     "name": "stderr",
     "output_type": "stream",
     "text": [
      "[Parallel(n_jobs=-1)]: Using backend LokyBackend with 4 concurrent workers.\n",
      "[Parallel(n_jobs=-1)]: Done  15 out of  15 | elapsed:  3.7min finished\n"
     ]
    }
   ],
   "source": [
    "grid_KNN_3 = GridSearchCV(pipe_KNN, parameters_KNN, cv=5,\n",
    "                          scoring=scoring, n_jobs=-1, verbose=1)\n",
    "\n",
    "grid_KNN_3.fit(X=sms_train, y=label_train)\n",
    "pred_test_grid_KNN_3 = grid_KNN_3.predict(sms_test)"
   ]
  },
  {
   "cell_type": "code",
   "execution_count": 134,
   "metadata": {},
   "outputs": [
    {
     "data": {
      "text/plain": [
       "{'clf_KNN__n_neighbors': 15}"
      ]
     },
     "execution_count": 134,
     "metadata": {},
     "output_type": "execute_result"
    }
   ],
   "source": [
    "grid_KNN_3.best_params_"
   ]
  },
  {
   "cell_type": "markdown",
   "metadata": {},
   "source": [
    "SVC"
   ]
  },
  {
   "cell_type": "code",
   "execution_count": 135,
   "metadata": {},
   "outputs": [
    {
     "name": "stdout",
     "output_type": "stream",
     "text": [
      "Fitting 5 folds for each of 6 candidates, totalling 30 fits\n"
     ]
    },
    {
     "name": "stderr",
     "output_type": "stream",
     "text": [
      "[Parallel(n_jobs=-1)]: Using backend LokyBackend with 4 concurrent workers.\n",
      "[Parallel(n_jobs=-1)]: Done  30 out of  30 | elapsed:  7.8min finished\n"
     ]
    }
   ],
   "source": [
    "grid_SVC_3 = GridSearchCV(pipe_SVC, parameters_SVC, cv=5,\n",
    "                          scoring=scoring, n_jobs=-1, verbose=1)\n",
    "\n",
    "grid_SVC_3.fit(X=sms_train, y=label_train)\n",
    "pred_test_grid_SVC_3 = grid_SVC_3.predict(sms_test)\n"
   ]
  },
  {
   "cell_type": "markdown",
   "metadata": {},
   "source": [
    "SGD"
   ]
  },
  {
   "cell_type": "code",
   "execution_count": 136,
   "metadata": {},
   "outputs": [
    {
     "name": "stdout",
     "output_type": "stream",
     "text": [
      "Fitting 5 folds for each of 4 candidates, totalling 20 fits\n"
     ]
    },
    {
     "name": "stderr",
     "output_type": "stream",
     "text": [
      "[Parallel(n_jobs=-1)]: Using backend LokyBackend with 4 concurrent workers.\n",
      "[Parallel(n_jobs=-1)]: Done  20 out of  20 | elapsed:  5.1min finished\n"
     ]
    }
   ],
   "source": [
    "grid_SGD_3 = GridSearchCV(pipe_SGD, parameters_SGD, cv=5,\n",
    "                          scoring=scoring, n_jobs=-1, verbose=1)\n",
    "\n",
    "grid_SGD_3.fit(X=sms_train, y=label_train)\n",
    "pred_test_grid_SGD_3 = grid_SGD_3.predict(sms_test)"
   ]
  },
  {
   "cell_type": "markdown",
   "metadata": {},
   "source": [
    "GBC"
   ]
  },
  {
   "cell_type": "code",
   "execution_count": null,
   "metadata": {},
   "outputs": [],
   "source": [
    "grid_GBC_3 = GridSearchCV(pipe_GBC, parameters_GBC, cv=5,\n",
    "                          scoring=scoring, n_jobs=-1, verbose=1)\n",
    "\n",
    "grid_GBC_3.fit(X=sms_train, y=label_train)\n",
    "pred_test_grid_GBC_3 = grid_GBC_3.predict(sms_test)"
   ]
  },
  {
   "cell_type": "markdown",
   "metadata": {},
   "source": [
    "XGB"
   ]
  },
  {
   "cell_type": "code",
   "execution_count": null,
   "metadata": {},
   "outputs": [],
   "source": [
    "grid_XGB_3 = GridSearchCV(pipe_XGB, parameters_XGB, cv=5,\n",
    "                          scoring=scoring, n_jobs=-1, verbose=1)\n",
    "\n",
    "grid_XGB_3.fit(X=sms_train, y=label_train)\n",
    "pred_test_grid_XGB_3 = grid_XGB_3.predict(sms_test)"
   ]
  },
  {
   "cell_type": "markdown",
   "metadata": {},
   "source": [
    "## 3.6.2 Confusion matrices for scoring by recall"
   ]
  },
  {
   "cell_type": "code",
   "execution_count": null,
   "metadata": {},
   "outputs": [],
   "source": [
    "list_clf = [\"MNB\", \"KNN_3\", \"SVC_3\", \"SGD_3\", \"GBC_3\", \"XGB_3\"]\n",
    "\n",
    "list_pred = [pred_test_MNB, pred_test_grid_KNN_3, \n",
    "             pred_test_grid_SVC_3, pred_test_grid_SGD_3,\n",
    "             pred_test_grid_GBC_3, pred_test_grid_XGB_3]\n",
    "\n",
    "dict_pred_3 = dict(zip(list_clf, list_pred))"
   ]
  },
  {
   "cell_type": "code",
   "execution_count": null,
   "metadata": {},
   "outputs": [],
   "source": [
    "plot_all_confusion_matrices(label_test, dict_pred_3, \"Pipelines v3, scoring=recall\")"
   ]
  },
  {
   "cell_type": "markdown",
   "metadata": {},
   "source": [
    "## 3.7 Optimize classifiers with scoring by roc_auc_score"
   ]
  },
  {
   "cell_type": "code",
   "execution_count": null,
   "metadata": {},
   "outputs": [],
   "source": [
    "scoring = 'roc_auc'"
   ]
  },
  {
   "cell_type": "markdown",
   "metadata": {},
   "source": [
    "## 3.7.1 GridSearchCV pipelines version 4\n",
    "\n",
    "\n",
    "KNN"
   ]
  },
  {
   "cell_type": "code",
   "execution_count": null,
   "metadata": {},
   "outputs": [],
   "source": [
    "grid_KNN_4 = GridSearchCV(pipe_KNN, parameters_KNN, cv=5,\n",
    "                          scoring=scoring, n_jobs=-1, verbose=1)\n",
    "\n",
    "grid_KNN_4.fit(X=sms_train, y=label_train)\n",
    "pred_test_grid_KNN_4 = grid_KNN_4.predict(sms_test)"
   ]
  },
  {
   "cell_type": "code",
   "execution_count": null,
   "metadata": {},
   "outputs": [],
   "source": [
    "grid_KNN_4.best_params_"
   ]
  },
  {
   "cell_type": "code",
   "execution_count": null,
   "metadata": {},
   "outputs": [],
   "source": [
    "from sklearn.metrics import roc_curve, auc\n",
    "\n",
    "fpr, tpr, thr = roc_curve(label_test, grid_KNN_4.predict_proba(sms_test)[:,1])\n",
    "plt.figure(figsize=(5, 5))\n",
    "plt.plot(fpr, tpr)\n",
    "plt.xlabel('False Positive Rate')\n",
    "plt.ylabel('True Positive Rate')\n",
    "plt.title('Receiver Operating Characteristic Plot')\n",
    "auc_knn4 = auc(fpr, tpr) * 100\n",
    "plt.legend([\"AUC {0:.3f}\".format(auc_knn4)])"
   ]
  },
  {
   "cell_type": "markdown",
   "metadata": {},
   "source": [
    "SVC"
   ]
  },
  {
   "cell_type": "code",
   "execution_count": null,
   "metadata": {},
   "outputs": [],
   "source": [
    "grid_SVC_4 = GridSearchCV(pipe_SVC, parameters_SVC, cv=5,\n",
    "                          scoring=scoring, n_jobs=-1, verbose=1)\n",
    "\n",
    "grid_SVC_4.fit(X=sms_train, y=label_train)\n",
    "pred_test_grid_SVC_4 = grid_SVC_4.predict(sms_test)"
   ]
  },
  {
   "cell_type": "markdown",
   "metadata": {},
   "source": [
    "SGD"
   ]
  },
  {
   "cell_type": "code",
   "execution_count": null,
   "metadata": {},
   "outputs": [],
   "source": [
    "grid_SGD_4 = GridSearchCV(pipe_SGD, parameters_SGD, cv=5,\n",
    "                          scoring=scoring, n_jobs=-1, verbose=1)\n",
    "\n",
    "grid_SGD_4.fit(X=sms_train, y=label_train)\n",
    "pred_test_grid_SGD_4 = grid_SGD_4.predict(sms_test)"
   ]
  },
  {
   "cell_type": "markdown",
   "metadata": {},
   "source": [
    "GBC"
   ]
  },
  {
   "cell_type": "code",
   "execution_count": null,
   "metadata": {},
   "outputs": [],
   "source": [
    "grid_GBC_4 = GridSearchCV(pipe_GBC, parameters_GBC, cv=5,\n",
    "                          scoring=scoring, n_jobs=-1, verbose=1)\n",
    "\n",
    "grid_GBC_4.fit(X=sms_train, y=label_train)\n",
    "pred_test_grid_GBC_4 = grid_GBC_4.predict(sms_test)"
   ]
  },
  {
   "cell_type": "code",
   "execution_count": null,
   "metadata": {},
   "outputs": [],
   "source": [
    "from sklearn.metrics import roc_curve, auc\n",
    "fpr, tpr, thr = roc_curve(label_test, grid_GBC_4.predict_proba(sms_test)[:,1])\n",
    "plt.figure(figsize=(5, 5))\n",
    "plt.plot(fpr, tpr)\n",
    "plt.xlabel('False Positive Rate')\n",
    "plt.ylabel('True Positive Rate')\n",
    "plt.title('Receiver Operating Characteristic Plot')\n",
    "auc_gbc4 = auc(fpr, tpr) * 100\n",
    "plt.legend([\"AUC {0:.3f}\".format(auc_gbc4)])"
   ]
  },
  {
   "cell_type": "markdown",
   "metadata": {},
   "source": [
    "XGB"
   ]
  },
  {
   "cell_type": "code",
   "execution_count": null,
   "metadata": {},
   "outputs": [],
   "source": [
    "grid_XGB_4 = GridSearchCV(pipe_XGB, parameters_XGB, cv=5,\n",
    "                          scoring=scoring, n_jobs=-1, verbose=1)\n",
    "\n",
    "grid_XGB_4.fit(X=sms_train, y=label_train)\n",
    "pred_test_grid_XGB_4 = grid_XGB_4.predict(sms_test)"
   ]
  },
  {
   "cell_type": "markdown",
   "metadata": {},
   "source": [
    "## 3.7.2 Confusion matrices for scoring by roc auc"
   ]
  },
  {
   "cell_type": "code",
   "execution_count": null,
   "metadata": {},
   "outputs": [],
   "source": [
    "list_clf = [\"MNB\", \"KNN_4\", \"SVC_4\", \"SGD_4\", \"GBC_4\", \"XGB_4\"]\n",
    "\n",
    "list_pred = [pred_test_MNB, pred_test_grid_KNN_4, \n",
    "             pred_test_grid_SVC_4, pred_test_grid_SGD_4,\n",
    "             pred_test_grid_GBC_4, pred_test_grid_XGB_4]\n",
    "\n",
    "dict_pred_4 = dict(zip(list_clf, list_pred))"
   ]
  },
  {
   "cell_type": "code",
   "execution_count": null,
   "metadata": {},
   "outputs": [],
   "source": [
    "plot_all_confusion_matrices(label_test, dict_pred_4, \"Pipelines v4, scoring=roc auc\")"
   ]
  },
  {
   "cell_type": "markdown",
   "metadata": {},
   "source": [
    "## Part 4: NLTK"
   ]
  },
  {
   "cell_type": "code",
   "execution_count": null,
   "metadata": {},
   "outputs": [],
   "source": [
    "from nltk import word_tokenize, sent_tokenize\n",
    "from nltk.corpus import stopwords"
   ]
  },
  {
   "cell_type": "code",
   "execution_count": null,
   "metadata": {},
   "outputs": [],
   "source": [
    "print(data['text'][7])"
   ]
  },
  {
   "cell_type": "code",
   "execution_count": null,
   "metadata": {},
   "outputs": [],
   "source": [
    "print(sent_tokenize(data['text'][7]))"
   ]
  },
  {
   "cell_type": "code",
   "execution_count": null,
   "metadata": {},
   "outputs": [],
   "source": [
    "print(word_tokenize(data['text'][7]))"
   ]
  },
  {
   "cell_type": "code",
   "execution_count": null,
   "metadata": {},
   "outputs": [],
   "source": [
    "stopWords = set(stopwords.words('english'))\n",
    "words = word_tokenize(data['text'][7])\n",
    "wordsFiltered = []\n",
    "\n",
    "for w in words:\n",
    "    if w not in stopWords:\n",
    "        wordsFiltered.append(w)\n",
    "\n",
    "print(wordsFiltered)"
   ]
  }
 ],
 "metadata": {
  "kernelspec": {
   "display_name": "Python 3",
   "language": "python",
   "name": "python3"
  },
  "language_info": {
   "codemirror_mode": {
    "name": "ipython",
    "version": 3
   },
   "file_extension": ".py",
   "mimetype": "text/x-python",
   "name": "python",
   "nbconvert_exporter": "python",
   "pygments_lexer": "ipython3",
   "version": "3.7.4"
  }
 },
 "nbformat": 4,
 "nbformat_minor": 2
}
